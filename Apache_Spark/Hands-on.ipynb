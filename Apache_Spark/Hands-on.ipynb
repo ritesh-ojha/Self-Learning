{
 "cells": [
  {
   "cell_type": "code",
   "execution_count": 0,
   "metadata": {
    "application/vnd.databricks.v1+cell": {
     "cellMetadata": {
      "byteLimit": 2048000,
      "rowLimit": 10000
     },
     "inputWidgets": {},
     "nuid": "533fba6f-3eee-4a72-bbe6-c77020486dc0",
     "showTitle": false,
     "title": ""
    }
   },
   "outputs": [],
   "source": [
    "from pyspark.sql.functions import *\n",
    "from pyspark.sql.types import *\n",
    "from pyspark.sql.window import *"
   ]
  },
  {
   "cell_type": "markdown",
   "metadata": {
    "application/vnd.databricks.v1+cell": {
     "cellMetadata": {},
     "inputWidgets": {},
     "nuid": "2b143eaa-2a5d-4583-b650-733c48eb8b4d",
     "showTitle": false,
     "title": ""
    }
   },
   "source": [
    "# File Reading"
   ]
  },
  {
   "cell_type": "code",
   "execution_count": 0,
   "metadata": {
    "application/vnd.databricks.v1+cell": {
     "cellMetadata": {
      "byteLimit": 2048000,
      "rowLimit": 10000
     },
     "inputWidgets": {},
     "nuid": "b42bf29d-a113-4950-ad23-2a17aa2c0b1d",
     "showTitle": false,
     "title": ""
    }
   },
   "outputs": [],
   "source": [
    "path = \"dbfs:/FileStore/shared_uploads/riteshojha2002@gmail.com/flight_data.csv\""
   ]
  },
  {
   "cell_type": "code",
   "execution_count": 0,
   "metadata": {
    "application/vnd.databricks.v1+cell": {
     "cellMetadata": {
      "byteLimit": 2048000,
      "rowLimit": 10000
     },
     "inputWidgets": {},
     "nuid": "a37a2cc6-3f23-4c23-8c3f-a80a13dca842",
     "showTitle": false,
     "title": ""
    }
   },
   "outputs": [],
   "source": [
    "from pyspark.sql.types import StructType, StructField, StringType, IntegerType"
   ]
  },
  {
   "cell_type": "code",
   "execution_count": 0,
   "metadata": {
    "application/vnd.databricks.v1+cell": {
     "cellMetadata": {
      "byteLimit": 2048000,
      "rowLimit": 10000
     },
     "inputWidgets": {},
     "nuid": "18952c27-1739-484d-9ba6-e7d335c546e9",
     "showTitle": false,
     "title": ""
    }
   },
   "outputs": [],
   "source": [
    "schema = StructType([\n",
    "    StructField(\"DEST_COUNTRY_NAME\", StringType(), True),\n",
    "    StructField(\"ORIGIN_COUNTRY_NAME\", StringType(),True),\n",
    "    StructField(\"count\",StringType(),True)\n",
    "])"
   ]
  },
  {
   "cell_type": "code",
   "execution_count": 0,
   "metadata": {
    "application/vnd.databricks.v1+cell": {
     "cellMetadata": {
      "byteLimit": 2048000,
      "rowLimit": 10000
     },
     "inputWidgets": {},
     "nuid": "b66cd353-8a44-4460-aee9-c8bd8bc5160d",
     "showTitle": false,
     "title": ""
    }
   },
   "outputs": [],
   "source": [
    "flight_df = spark.read.format('csv').option('header','false').option('skipRows',1).schema(schema).load(path)"
   ]
  },
  {
   "cell_type": "code",
   "execution_count": 0,
   "metadata": {
    "application/vnd.databricks.v1+cell": {
     "cellMetadata": {
      "byteLimit": 2048000,
      "rowLimit": 10000
     },
     "collapsed": true,
     "inputWidgets": {},
     "nuid": "a128fa0f-9fa3-4534-b49d-51c5a693db06",
     "showTitle": false,
     "title": ""
    }
   },
   "outputs": [
    {
     "output_type": "stream",
     "name": "stdout",
     "output_type": "stream",
     "text": [
      "+-----------------+-------------------+-----+\n|DEST_COUNTRY_NAME|ORIGIN_COUNTRY_NAME|count|\n+-----------------+-------------------+-----+\n|    United States|            Romania|   15|\n|    United States|            Croatia|    1|\n|    United States|            Ireland|  344|\n|            Egypt|      United States|   15|\n|    United States|              India|   62|\n+-----------------+-------------------+-----+\nonly showing top 5 rows\n\n"
     ]
    }
   ],
   "source": [
    "flight_df.show(5)"
   ]
  },
  {
   "cell_type": "code",
   "execution_count": 0,
   "metadata": {
    "application/vnd.databricks.v1+cell": {
     "cellMetadata": {
      "byteLimit": 2048000,
      "rowLimit": 10000
     },
     "collapsed": true,
     "inputWidgets": {},
     "nuid": "076551da-0760-4fee-8347-49b19a3a3f99",
     "showTitle": false,
     "title": ""
    }
   },
   "outputs": [
    {
     "output_type": "stream",
     "name": "stdout",
     "output_type": "stream",
     "text": [
      "root\n |-- DEST_COUNTRY_NAME: string (nullable = true)\n |-- ORIGIN_COUNTRY_NAME: string (nullable = true)\n |-- count: string (nullable = true)\n\n"
     ]
    }
   ],
   "source": [
    "flight_df.printSchema()"
   ]
  },
  {
   "cell_type": "code",
   "execution_count": 0,
   "metadata": {
    "application/vnd.databricks.v1+cell": {
     "cellMetadata": {
      "byteLimit": 2048000,
      "rowLimit": 10000
     },
     "inputWidgets": {},
     "nuid": "3356cef8-24bb-4cbe-9d00-05e4cae1ef5d",
     "showTitle": false,
     "title": ""
    }
   },
   "outputs": [
    {
     "output_type": "display_data",
     "data": {
      "text/html": [
       "<style scoped>\n",
       "  .table-result-container {\n",
       "    max-height: 300px;\n",
       "    overflow: auto;\n",
       "  }\n",
       "  table, th, td {\n",
       "    border: 1px solid black;\n",
       "    border-collapse: collapse;\n",
       "  }\n",
       "  th, td {\n",
       "    padding: 5px;\n",
       "  }\n",
       "  th {\n",
       "    text-align: left;\n",
       "  }\n",
       "</style><div class='table-result-container'><table class='table-result'><thead style='background-color: white'><tr><th>path</th><th>name</th><th>size</th><th>modificationTime</th></tr></thead><tbody><tr><td>dbfs:/FileStore/shared_uploads/riteshojha2002@gmail.com/2015_summary.csv</td><td>2015_summary.csv</td><td>7080</td><td>1715526321000</td></tr><tr><td>dbfs:/FileStore/shared_uploads/riteshojha2002@gmail.com/HR_Gender_Diversity___Equality.csv</td><td>HR_Gender_Diversity___Equality.csv</td><td>114732</td><td>1713266514000</td></tr><tr><td>dbfs:/FileStore/shared_uploads/riteshojha2002@gmail.com/San_Martin_Stores_2021_New.xlsx</td><td>San_Martin_Stores_2021_New.xlsx</td><td>1455778</td><td>1713266475000</td></tr><tr><td>dbfs:/FileStore/shared_uploads/riteshojha2002@gmail.com/flight_data.csv</td><td>flight_data.csv</td><td>7080</td><td>1715526353000</td></tr></tbody></table></div>"
      ]
     },
     "metadata": {
      "application/vnd.databricks.v1+output": {
       "addedWidgets": {},
       "aggData": [],
       "aggError": "",
       "aggOverflow": false,
       "aggSchema": [],
       "aggSeriesLimitReached": false,
       "aggType": "",
       "arguments": {},
       "columnCustomDisplayInfos": {},
       "data": [
        [
         "dbfs:/FileStore/shared_uploads/riteshojha2002@gmail.com/2015_summary.csv",
         "2015_summary.csv",
         7080,
         1715526321000
        ],
        [
         "dbfs:/FileStore/shared_uploads/riteshojha2002@gmail.com/HR_Gender_Diversity___Equality.csv",
         "HR_Gender_Diversity___Equality.csv",
         114732,
         1713266514000
        ],
        [
         "dbfs:/FileStore/shared_uploads/riteshojha2002@gmail.com/San_Martin_Stores_2021_New.xlsx",
         "San_Martin_Stores_2021_New.xlsx",
         1455778,
         1713266475000
        ],
        [
         "dbfs:/FileStore/shared_uploads/riteshojha2002@gmail.com/flight_data.csv",
         "flight_data.csv",
         7080,
         1715526353000
        ]
       ],
       "datasetInfos": [],
       "dbfsResultPath": null,
       "isJsonSchema": true,
       "metadata": {},
       "overflow": false,
       "plotOptions": {
        "customPlotOptions": {},
        "displayType": "table",
        "pivotAggregation": null,
        "pivotColumns": null,
        "xColumns": null,
        "yColumns": null
       },
       "removedWidgets": [],
       "schema": [
        {
         "metadata": "{}",
         "name": "path",
         "type": "\"string\""
        },
        {
         "metadata": "{}",
         "name": "name",
         "type": "\"string\""
        },
        {
         "metadata": "{}",
         "name": "size",
         "type": "\"long\""
        },
        {
         "metadata": "{}",
         "name": "modificationTime",
         "type": "\"long\""
        }
       ],
       "type": "table"
      }
     },
     "output_type": "display_data"
    }
   ],
   "source": [
    "%fs\n",
    "ls /FileStore/shared_uploads/riteshojha2002@gmail.com/"
   ]
  },
  {
   "cell_type": "markdown",
   "metadata": {
    "application/vnd.databricks.v1+cell": {
     "cellMetadata": {},
     "inputWidgets": {},
     "nuid": "a09fc9eb-6576-4e9f-bf58-3746df21a80e",
     "showTitle": false,
     "title": ""
    }
   },
   "source": [
    "# Handling Corrupt Files\n"
   ]
  },
  {
   "cell_type": "markdown",
   "metadata": {
    "application/vnd.databricks.v1+cell": {
     "cellMetadata": {},
     "inputWidgets": {},
     "nuid": "542933d6-0ad7-4f89-b8d0-024822329e25",
     "showTitle": false,
     "title": ""
    }
   },
   "source": [
    "### Failfest\n",
    "- fail execution if mailfomed records in dataset\n",
    "### Dropmal fomed\n",
    "- Drop corrupted records\n",
    "### Permissive\n",
    "- Set null values to all corrupted fields"
   ]
  },
  {
   "cell_type": "code",
   "execution_count": 0,
   "metadata": {
    "application/vnd.databricks.v1+cell": {
     "cellMetadata": {},
     "inputWidgets": {},
     "nuid": "57d2b392-2721-495f-be5a-3a52373e971c",
     "showTitle": false,
     "title": ""
    }
   },
   "outputs": [],
   "source": [
    "corrupt_schema = StructType([\n",
    "    StructField(\"DEST_COUNTRY_NAME\", StringType(), True),\n",
    "    StructField(\"ORIGIN_COUNTRY_NAME\", StringType(),True),\n",
    "    StructField(\"count\",StringType(),True),\n",
    "    StructField(\"_corrupt_records\",StringType(),True)\n",
    "])"
   ]
  },
  {
   "cell_type": "code",
   "execution_count": 0,
   "metadata": {
    "application/vnd.databricks.v1+cell": {
     "cellMetadata": {},
     "inputWidgets": {},
     "nuid": "e0b73e88-685d-4162-901c-578f52f8d920",
     "showTitle": false,
     "title": ""
    }
   },
   "outputs": [],
   "source": [
    "# Handling Corrupt Files\n",
    "\n",
    "flight_df_corrupt = spark.read.format('csv')\\\n",
    ".option('header','false')\\\n",
    ".option(\"badRecordsPath\",\"dbfs:/FileStore/shared_uploads/riteshojha2002@gmail.com/\")\n",
    ".schema(corrupt_schema).load(path)\\\n",
    "\n",
    "# Bad record file in Json format\n"
   ]
  },
  {
   "cell_type": "code",
   "execution_count": 0,
   "metadata": {
    "application/vnd.databricks.v1+cell": {
     "cellMetadata": {},
     "inputWidgets": {},
     "nuid": "75859c9f-608b-4453-a924-16ca282872a6",
     "showTitle": false,
     "title": ""
    }
   },
   "outputs": [],
   "source": []
  },
  {
   "cell_type": "markdown",
   "metadata": {
    "application/vnd.databricks.v1+cell": {
     "cellMetadata": {},
     "inputWidgets": {},
     "nuid": "b1239d45-fafb-4e5d-af44-839155a36ffa",
     "showTitle": false,
     "title": ""
    }
   },
   "source": [
    "# Write file in spark\n",
    "\n",
    "- Append\n",
    "- Overwrite"
   ]
  },
  {
   "cell_type": "code",
   "execution_count": 0,
   "metadata": {
    "application/vnd.databricks.v1+cell": {
     "cellMetadata": {},
     "inputWidgets": {},
     "nuid": "24335a97-8fb9-410e-ab6b-dcb154273cc7",
     "showTitle": false,
     "title": ""
    }
   },
   "outputs": [],
   "source": [
    "df.write.format('csv')\\\n",
    "    .option(\"header\",\"True\")\\\n",
    "    .option(\"mode\",\"overwrite\")\\\n",
    "    .option(\"path\",\"dbfs:/FileStore/shared_uploads/riteshojha2002@gmail.com/write/\")\n",
    "    .save()"
   ]
  },
  {
   "cell_type": "code",
   "execution_count": 0,
   "metadata": {
    "application/vnd.databricks.v1+cell": {
     "cellMetadata": {},
     "inputWidgets": {},
     "nuid": "6c240ba2-335c-43f6-af5d-19e32034a0a4",
     "showTitle": false,
     "title": ""
    }
   },
   "outputs": [],
   "source": [
    "# Partitioning\n",
    "df.repartition(3).write.format('csv')\\\n",
    "    .option(\"header\",\"True\")\\\n",
    "    .option(\"mode\",\"overwrite\")\\\n",
    "    .option(\"path\",\"dbfs:/FileStore/shared_uploads/riteshojha2002@gmail.com/write/\")\n",
    "    .save()"
   ]
  },
  {
   "cell_type": "markdown",
   "metadata": {
    "application/vnd.databricks.v1+cell": {
     "cellMetadata": {},
     "inputWidgets": {},
     "nuid": "1f436129-9806-409e-9e00-1c092cb5575b",
     "showTitle": false,
     "title": ""
    }
   },
   "source": [
    "# Partition and Bucket\n",
    "- Partition used when we have columns of categorys like gender, country, city\n",
    "- Bucket created when we not able to create partitions."
   ]
  },
  {
   "cell_type": "code",
   "execution_count": 0,
   "metadata": {
    "application/vnd.databricks.v1+cell": {
     "cellMetadata": {},
     "inputWidgets": {},
     "nuid": "58ea9b40-6040-4a67-a080-bd84d6d89d57",
     "showTitle": false,
     "title": ""
    }
   },
   "outputs": [],
   "source": [
    "df.write.format('csv')\\\n",
    "    .option(\"header\",\"True\")\\\n",
    "    .option(\"mode\",\"overwrite\")\\\n",
    "    .option(\"path\",\"dbfs:/FileStore/shared_uploads/riteshojha2002@gmail.com/write/\")\\\n",
    "    .partitionBy(Column-Name)\\\n",
    "    .save()"
   ]
  },
  {
   "cell_type": "code",
   "execution_count": 0,
   "metadata": {
    "application/vnd.databricks.v1+cell": {
     "cellMetadata": {},
     "inputWidgets": {},
     "nuid": "c951141f-7e91-4340-a721-9630bba6d84e",
     "showTitle": false,
     "title": ""
    }
   },
   "outputs": [],
   "source": [
    "dbutils.fs.ls(\"dbfs:/FileStore/shared_uploads/riteshojha2002@gmail.com/write/\")"
   ]
  },
  {
   "cell_type": "code",
   "execution_count": 0,
   "metadata": {
    "application/vnd.databricks.v1+cell": {
     "cellMetadata": {},
     "inputWidgets": {},
     "nuid": "b9e4716f-b4ea-4c36-b7a9-51932d4d53f8",
     "showTitle": false,
     "title": ""
    }
   },
   "outputs": [],
   "source": [
    "df.write.format('csv')\\\n",
    "    .option(\"header\",\"True\")\\\n",
    "    .option(\"mode\",\"overwrite\")\\\n",
    "    .option(\"path\",\"dbfs:/FileStore/shared_uploads/riteshojha2002@gmail.com/write/\")\\\n",
    "    .bucketBy(3,\"ID\")\\\n",
    "    # .save() # save not work in bucket\n",
    "    .saveAsTable('table_name')\n"
   ]
  },
  {
   "cell_type": "markdown",
   "metadata": {
    "application/vnd.databricks.v1+cell": {
     "cellMetadata": {},
     "inputWidgets": {},
     "nuid": "5d22cbfb-65d2-40e4-978f-42527abe3f37",
     "showTitle": false,
     "title": ""
    }
   },
   "source": [
    "# Create Dataframe in Spark"
   ]
  },
  {
   "cell_type": "code",
   "execution_count": 0,
   "metadata": {
    "application/vnd.databricks.v1+cell": {
     "cellMetadata": {},
     "inputWidgets": {},
     "nuid": "22ddbdef-1635-4097-a216-96728dd9e69e",
     "showTitle": false,
     "title": ""
    }
   },
   "outputs": [],
   "source": [
    "data = [\n",
    "    (1,2),\n",
    "    (2,1),\n",
    "    (3,1),\n",
    "    (4,2),\n",
    "    (5,1),\n",
    "    (6,2),\n",
    "    (7,2)\n",
    "]"
   ]
  },
  {
   "cell_type": "code",
   "execution_count": 0,
   "metadata": {
    "application/vnd.databricks.v1+cell": {
     "cellMetadata": {},
     "inputWidgets": {},
     "nuid": "11c720bc-5264-463c-8d66-0270ab479280",
     "showTitle": false,
     "title": ""
    }
   },
   "outputs": [],
   "source": [
    "schema = ['id','num']"
   ]
  },
  {
   "cell_type": "code",
   "execution_count": 0,
   "metadata": {
    "application/vnd.databricks.v1+cell": {
     "cellMetadata": {},
     "inputWidgets": {},
     "nuid": "5180c6b3-3bea-4e9f-8a86-b17024649725",
     "showTitle": false,
     "title": ""
    }
   },
   "outputs": [],
   "source": [
    "df = spark.createDataFrame(data=data,schema=schema)\n",
    "df.show()"
   ]
  },
  {
   "cell_type": "code",
   "execution_count": 0,
   "metadata": {
    "application/vnd.databricks.v1+cell": {
     "cellMetadata": {},
     "inputWidgets": {},
     "nuid": "e0fd62d2-f3e9-464e-9fc7-6625610952c3",
     "showTitle": false,
     "title": ""
    }
   },
   "outputs": [],
   "source": []
  },
  {
   "cell_type": "markdown",
   "metadata": {
    "application/vnd.databricks.v1+cell": {
     "cellMetadata": {},
     "inputWidgets": {},
     "nuid": "65ab218d-a4df-4d32-8822-2175bad6a105",
     "showTitle": false,
     "title": ""
    }
   },
   "source": [
    "# Transformations"
   ]
  },
  {
   "cell_type": "markdown",
   "metadata": {
    "application/vnd.databricks.v1+cell": {
     "cellMetadata": {},
     "inputWidgets": {},
     "nuid": "74873cf4-1b8b-49a8-bf6b-797f3b4880ce",
     "showTitle": false,
     "title": ""
    }
   },
   "source": [
    "## Flight df"
   ]
  },
  {
   "cell_type": "code",
   "execution_count": 0,
   "metadata": {
    "application/vnd.databricks.v1+cell": {
     "cellMetadata": {
      "byteLimit": 2048000,
      "rowLimit": 10000
     },
     "inputWidgets": {},
     "nuid": "cdadbc3c-82e3-4482-8a40-2d12ec3e53c4",
     "showTitle": false,
     "title": ""
    }
   },
   "outputs": [],
   "source": [
    "from pyspark.sql.functions import col, expr, lit, concat"
   ]
  },
  {
   "cell_type": "code",
   "execution_count": 0,
   "metadata": {
    "application/vnd.databricks.v1+cell": {
     "cellMetadata": {
      "byteLimit": 2048000,
      "rowLimit": 10000
     },
     "collapsed": true,
     "inputWidgets": {},
     "nuid": "5b31d752-02fa-4b31-96db-c9ea2a394584",
     "showTitle": false,
     "title": ""
    }
   },
   "outputs": [
    {
     "output_type": "stream",
     "name": "stdout",
     "output_type": "stream",
     "text": [
      "+-----------------+-------------------+-----+\n|DEST_COUNTRY_NAME|ORIGIN_COUNTRY_NAME|count|\n+-----------------+-------------------+-----+\n|    United States|            Romania|   15|\n+-----------------+-------------------+-----+\nonly showing top 1 row\n\n"
     ]
    }
   ],
   "source": [
    "flight_df.show(1)"
   ]
  },
  {
   "cell_type": "code",
   "execution_count": 0,
   "metadata": {
    "application/vnd.databricks.v1+cell": {
     "cellMetadata": {
      "byteLimit": 2048000,
      "rowLimit": 10000
     },
     "collapsed": true,
     "inputWidgets": {},
     "nuid": "bee58c35-5a75-46a0-8498-f02462099c57",
     "showTitle": false,
     "title": ""
    }
   },
   "outputs": [
    {
     "output_type": "stream",
     "name": "stdout",
     "output_type": "stream",
     "text": [
      "+-----------------+\n|DEST_COUNTRY_NAME|\n+-----------------+\n|    United States|\n|    United States|\n|    United States|\n|            Egypt|\n|    United States|\n+-----------------+\nonly showing top 5 rows\n\n"
     ]
    }
   ],
   "source": [
    "flight_df.select(\"DEST_COUNTRY_NAME\").show(5)"
   ]
  },
  {
   "cell_type": "code",
   "execution_count": 0,
   "metadata": {
    "application/vnd.databricks.v1+cell": {
     "cellMetadata": {
      "byteLimit": 2048000,
      "rowLimit": 10000
     },
     "collapsed": true,
     "inputWidgets": {},
     "nuid": "2d1243ae-4b42-4ab0-9195-103faf92ba43",
     "showTitle": false,
     "title": ""
    }
   },
   "outputs": [
    {
     "output_type": "stream",
     "name": "stdout",
     "output_type": "stream",
     "text": [
      "+-----------------+\n|DEST_COUNTRY_NAME|\n+-----------------+\n|    United States|\n|    United States|\n|    United States|\n|            Egypt|\n|    United States|\n+-----------------+\nonly showing top 5 rows\n\n"
     ]
    }
   ],
   "source": [
    "flight_df.select(col(\"DEST_COUNTRY_NAME\")).show(5)"
   ]
  },
  {
   "cell_type": "code",
   "execution_count": 0,
   "metadata": {
    "application/vnd.databricks.v1+cell": {
     "cellMetadata": {
      "byteLimit": 2048000,
      "rowLimit": 10000
     },
     "collapsed": true,
     "inputWidgets": {},
     "nuid": "92cd2767-e751-4314-8962-8a69122f92b1",
     "showTitle": false,
     "title": ""
    }
   },
   "outputs": [
    {
     "output_type": "stream",
     "name": "stdout",
     "output_type": "stream",
     "text": [
      "+-----------+\n|(count + 5)|\n+-----------+\n|       20.0|\n|        6.0|\n|      349.0|\n|       20.0|\n|       67.0|\n+-----------+\nonly showing top 5 rows\n\n"
     ]
    }
   ],
   "source": [
    "# Expression - Write SQL statements\n",
    "\n",
    "flight_df.select(expr(\"count +5\")).show(5)"
   ]
  },
  {
   "cell_type": "code",
   "execution_count": 0,
   "metadata": {
    "application/vnd.databricks.v1+cell": {
     "cellMetadata": {
      "byteLimit": 2048000,
      "rowLimit": 10000
     },
     "collapsed": true,
     "inputWidgets": {},
     "nuid": "4c5b12ff-3621-4dae-9ef0-4064a21cae0b",
     "showTitle": false,
     "title": ""
    }
   },
   "outputs": [
    {
     "output_type": "stream",
     "name": "stdout",
     "output_type": "stream",
     "text": [
      "+-----------+\n|(count + 5)|\n+-----------+\n|       20.0|\n|        6.0|\n|      349.0|\n|       20.0|\n|       67.0|\n+-----------+\nonly showing top 5 rows\n\n"
     ]
    }
   ],
   "source": [
    "flight_df.select(col(\"count\")+5).show(5)"
   ]
  },
  {
   "cell_type": "code",
   "execution_count": 0,
   "metadata": {
    "application/vnd.databricks.v1+cell": {
     "cellMetadata": {
      "byteLimit": 2048000,
      "rowLimit": 10000
     },
     "collapsed": true,
     "inputWidgets": {},
     "nuid": "1016d911-6fec-4de0-8e0c-41f2c152937d",
     "showTitle": false,
     "title": ""
    }
   },
   "outputs": [
    {
     "output_type": "stream",
     "name": "stdout",
     "output_type": "stream",
     "text": [
      "+-----------------+-----------------+-----------------+-----------------+\n|DEST_COUNTRY_NAME|DEST_COUNTRY_NAME|DEST_COUNTRY_NAME|DEST_COUNTRY_NAME|\n+-----------------+-----------------+-----------------+-----------------+\n|    United States|    United States|    United States|    United States|\n|    United States|    United States|    United States|    United States|\n|    United States|    United States|    United States|    United States|\n+-----------------+-----------------+-----------------+-----------------+\nonly showing top 3 rows\n\n"
     ]
    }
   ],
   "source": [
    "# Four ways - String way , Col Way, Pandas Way, SQl way\n",
    "\n",
    "flight_df.select(\"DEST_COUNTRY_NAME\",col(\"DEST_COUNTRY_NAME\"),flight_df['DEST_COUNTRY_NAME'],flight_df.DEST_COUNTRY_NAME).show(3)"
   ]
  },
  {
   "cell_type": "code",
   "execution_count": 0,
   "metadata": {
    "application/vnd.databricks.v1+cell": {
     "cellMetadata": {
      "byteLimit": 2048000,
      "rowLimit": 10000
     },
     "collapsed": true,
     "inputWidgets": {},
     "nuid": "4c1b554a-6969-4fe4-a7e9-642bfce0326f",
     "showTitle": false,
     "title": ""
    }
   },
   "outputs": [
    {
     "output_type": "stream",
     "name": "stdout",
     "output_type": "stream",
     "text": [
      "+-------------+\n|  Destination|\n+-------------+\n|United States|\n|United States|\n|United States|\n+-------------+\nonly showing top 3 rows\n\n"
     ]
    }
   ],
   "source": [
    "flight_df.select(expr(\"DEST_COUNTRY_NAME as Destination\")).show(3)"
   ]
  },
  {
   "cell_type": "code",
   "execution_count": 0,
   "metadata": {
    "application/vnd.databricks.v1+cell": {
     "cellMetadata": {
      "byteLimit": 2048000,
      "rowLimit": 10000
     },
     "collapsed": true,
     "inputWidgets": {},
     "nuid": "11e81ef6-5278-453f-acf2-707e788e84ba",
     "showTitle": false,
     "title": ""
    }
   },
   "outputs": [
    {
     "output_type": "stream",
     "name": "stdout",
     "output_type": "stream",
     "text": [
      "+-----------------+-------------------+-----+\n|DEST_COUNTRY_NAME|ORIGIN_COUNTRY_NAME|count|\n+-----------------+-------------------+-----+\n|            Egypt|      United States|   15|\n|            India|      United States|   61|\n+-----------------+-------------------+-----+\n\n"
     ]
    }
   ],
   "source": [
    "flight_df.filter((col(\"DEST_COUNTRY_NAME\") == \"India\") | (col(\"DEST_COUNTRY_NAME\")==\"Egypt\")).show(5)"
   ]
  },
  {
   "cell_type": "code",
   "execution_count": 0,
   "metadata": {
    "application/vnd.databricks.v1+cell": {
     "cellMetadata": {
      "byteLimit": 2048000,
      "rowLimit": 10000
     },
     "collapsed": true,
     "inputWidgets": {},
     "nuid": "68b89143-044e-4ccf-ae33-d154f9178357",
     "showTitle": false,
     "title": ""
    }
   },
   "outputs": [
    {
     "output_type": "stream",
     "name": "stdout",
     "output_type": "stream",
     "text": [
      "+-----------------+-------------------+-----+\n|DEST_COUNTRY_NAME|ORIGIN_COUNTRY_NAME|count|\n+-----------------+-------------------+-----+\n|    United States|            Romania|   15|\n|    United States|            Croatia|    1|\n|    United States|            Ireland|  344|\n|    United States|              India|   62|\n|    United States|          Singapore|    1|\n+-----------------+-------------------+-----+\nonly showing top 5 rows\n\n"
     ]
    }
   ],
   "source": [
    "flight_df.where(col(\"DEST_COUNTRY_NAME\") == \"United States\").show(5)"
   ]
  },
  {
   "cell_type": "code",
   "execution_count": 0,
   "metadata": {
    "application/vnd.databricks.v1+cell": {
     "cellMetadata": {
      "byteLimit": 2048000,
      "rowLimit": 10000
     },
     "collapsed": true,
     "inputWidgets": {},
     "nuid": "edb36400-fe20-42f3-8072-a8ff2f83119a",
     "showTitle": false,
     "title": ""
    }
   },
   "outputs": [
    {
     "output_type": "stream",
     "name": "stdout",
     "output_type": "stream",
     "text": [
      "+-----------------+-------------------+-----+---------+\n|DEST_COUNTRY_NAME|ORIGIN_COUNTRY_NAME|count|  Company|\n+-----------------+-------------------+-----+---------+\n|    United States|            Romania|   15|Air India|\n|    United States|            Croatia|    1|Air India|\n|    United States|            Ireland|  344|Air India|\n|            Egypt|      United States|   15|Air India|\n|    United States|              India|   62|Air India|\n+-----------------+-------------------+-----+---------+\nonly showing top 5 rows\n\n"
     ]
    }
   ],
   "source": [
    "# literal - Use to assign default values\n",
    "flight_df.select(\"*\",lit(\"Air India\").alias(\"Company\")).show(5)\n"
   ]
  },
  {
   "cell_type": "code",
   "execution_count": 0,
   "metadata": {
    "application/vnd.databricks.v1+cell": {
     "cellMetadata": {},
     "inputWidgets": {},
     "nuid": "18f20346-3781-4d39-a893-71e1a77fb286",
     "showTitle": false,
     "title": ""
    }
   },
   "outputs": [],
   "source": [
    "# With Column - Update or Create New Column\n",
    "\n",
    "flight_df.withColumn()"
   ]
  },
  {
   "cell_type": "markdown",
   "metadata": {
    "application/vnd.databricks.v1+cell": {
     "cellMetadata": {},
     "inputWidgets": {},
     "nuid": "dbf91ad1-424b-4870-99f4-1ec6bbd4af17",
     "showTitle": false,
     "title": ""
    }
   },
   "source": [
    "## Hr Df"
   ]
  },
  {
   "cell_type": "code",
   "execution_count": 0,
   "metadata": {
    "application/vnd.databricks.v1+cell": {
     "cellMetadata": {
      "byteLimit": 2048000,
      "rowLimit": 10000
     },
     "inputWidgets": {},
     "nuid": "32a4b698-fbdc-490d-8bb9-1f584c894e79",
     "showTitle": false,
     "title": ""
    }
   },
   "outputs": [],
   "source": [
    "hr_df = spark.read.format('csv').option('header','True').option('inferschema','True').load(\"dbfs:/FileStore/shared_uploads/riteshojha2002@gmail.com/HR_Gender_Diversity___Equality.csv\")"
   ]
  },
  {
   "cell_type": "code",
   "execution_count": 0,
   "metadata": {
    "application/vnd.databricks.v1+cell": {
     "cellMetadata": {
      "byteLimit": 2048000,
      "rowLimit": 10000
     },
     "inputWidgets": {},
     "nuid": "bc69b998-206f-431c-8457-93134eb89868",
     "showTitle": false,
     "title": ""
    }
   },
   "outputs": [
    {
     "output_type": "stream",
     "name": "stdout",
     "output_type": "stream",
     "text": [
      "root\n |-- Employee ID: integer (nullable = true)\n |-- DOB: date (nullable = true)\n |-- Emp Age: integer (nullable = true)\n |-- Surname: string (nullable = true)\n |-- Name: string (nullable = true)\n |-- Gender: string (nullable = true)\n |-- Marital Status: string (nullable = true)\n |-- Branch: string (nullable = true)\n |-- Hire Date: date (nullable = true)\n |-- Leave Date: date (nullable = true)\n |-- Leave Reason: string (nullable = true)\n |-- Status: string (nullable = true)\n |-- Department: string (nullable = true)\n |-- Employee Satisfaction: integer (nullable = true)\n |-- Annual Salary ($): integer (nullable = true)\n |-- Bonus ($): integer (nullable = true)\n |-- Total Compensation: integer (nullable = true)\n |-- Job Title: string (nullable = true)\n |-- Job Description: string (nullable = true)\n |-- Manager (Y/N): string (nullable = true)\n |-- Performance: string (nullable = true)\n\n"
     ]
    }
   ],
   "source": [
    "hr_df.printSchema()"
   ]
  },
  {
   "cell_type": "code",
   "execution_count": 0,
   "metadata": {
    "application/vnd.databricks.v1+cell": {
     "cellMetadata": {
      "byteLimit": 2048000,
      "rowLimit": 10000
     },
     "collapsed": true,
     "inputWidgets": {},
     "nuid": "0523fa3d-8801-48fe-bfb5-b85a3c3a5791",
     "showTitle": false,
     "title": ""
    }
   },
   "outputs": [
    {
     "output_type": "stream",
     "name": "stdout",
     "output_type": "stream",
     "text": [
      "+-----------+----------+-------+---------+-------+------+--------------+------------+----------+----------+------------+------+----------+---------------------+-----------------+---------+------------------+--------------------+---------------+-------------+-----------+--------------+\n|Employee ID|       DOB|Emp Age|  Surname|   Name|Gender|Marital Status|      Branch| Hire Date|Leave Date|Leave Reason|Status|Department|Employee Satisfaction|Annual Salary ($)|Bonus ($)|Total Compensation|           Job Title|Job Description|Manager (Y/N)|Performance|     Full Name|\n+-----------+----------+-------+---------+-------+------+--------------+------------+----------+----------+------------+------+----------+---------------------+-----------------+---------+------------------+--------------------+---------------+-------------+-----------+--------------+\n|      10005|1953-10-28|     69|  Jackson| Noelia|     F|        Single|Buenos Aires|2014-01-25|      null|Not provided|Active|Production|                    3|            43241|     4757|             47998|Production Techni...|     Technician|           No|Fully Meets| NoeliaJackson|\n|      10007|1953-04-28|     69|    Carey|Rodrigo|     M|        Single|        Lima|2014-02-04|      null|Not provided|Active|Production|                    3|            51009|     7141|             58150|Production Techni...|     Technician|           No|Fully Meets|  RodrigoCarey|\n|      10009|1968-02-06|     55|     Chan|  Lucas|     M|        Single|Buenos Aires|2014-02-09|      null|Not provided|Active|Production|                    4|            42034|     6305|             48339|Production Techni...|     Technician|           No|Fully Meets|     LucasChan|\n|      10015|1983-11-10|     39| Ferreira| Daiana|     F|        Single|        Lima|2014-05-02|      null|Not provided|Active|Production|                    4|            44391|     2663|             47054|Production Techni...|     Technician|           No|Fully Meets|DaianaFerreira|\n|      10040|1961-05-01|     61|Bernstein|  Ruben|     M|        Single|        Lima|2014-10-07|      null|Not provided|Active|Production|                    3|            43361|     8239|             51600|Production Techni...|     Technician|           No|Fully Meets|RubenBernstein|\n+-----------+----------+-------+---------+-------+------+--------------+------------+----------+----------+------------+------+----------+---------------------+-----------------+---------+------------------+--------------------+---------------+-------------+-----------+--------------+\nonly showing top 5 rows\n\n"
     ]
    }
   ],
   "source": [
    "hr_df.withColumn(\"Full Name\",concat(\"Name\",\"Surname\")).show(5)"
   ]
  },
  {
   "cell_type": "code",
   "execution_count": 0,
   "metadata": {
    "application/vnd.databricks.v1+cell": {
     "cellMetadata": {
      "byteLimit": 2048000,
      "rowLimit": 10000
     },
     "collapsed": true,
     "inputWidgets": {},
     "nuid": "71ffdeba-5eac-44c8-9d5f-93c938682522",
     "showTitle": false,
     "title": ""
    }
   },
   "outputs": [
    {
     "output_type": "stream",
     "name": "stdout",
     "output_type": "stream",
     "text": [
      "+-----+----------+-------+---------+-------+------+--------------+------------+----------+----------+------------+------+----------+---------------------+-----------------+---------+------------------+--------------------+---------------+-------------+-----------+\n|   ID|       DOB|Emp Age|  Surname|   Name|Gender|Marital Status|      Branch| Hire Date|Leave Date|Leave Reason|Status|Department|Employee Satisfaction|Annual Salary ($)|Bonus ($)|Total Compensation|           Job Title|Job Description|Manager (Y/N)|Performance|\n+-----+----------+-------+---------+-------+------+--------------+------------+----------+----------+------------+------+----------+---------------------+-----------------+---------+------------------+--------------------+---------------+-------------+-----------+\n|10005|1953-10-28|     69|  Jackson| Noelia|     F|        Single|Buenos Aires|2014-01-25|      null|Not provided|Active|Production|                    3|            43241|     4757|             47998|Production Techni...|     Technician|           No|Fully Meets|\n|10007|1953-04-28|     69|    Carey|Rodrigo|     M|        Single|        Lima|2014-02-04|      null|Not provided|Active|Production|                    3|            51009|     7141|             58150|Production Techni...|     Technician|           No|Fully Meets|\n|10009|1968-02-06|     55|     Chan|  Lucas|     M|        Single|Buenos Aires|2014-02-09|      null|Not provided|Active|Production|                    4|            42034|     6305|             48339|Production Techni...|     Technician|           No|Fully Meets|\n|10015|1983-11-10|     39| Ferreira| Daiana|     F|        Single|        Lima|2014-05-02|      null|Not provided|Active|Production|                    4|            44391|     2663|             47054|Production Techni...|     Technician|           No|Fully Meets|\n|10040|1961-05-01|     61|Bernstein|  Ruben|     M|        Single|        Lima|2014-10-07|      null|Not provided|Active|Production|                    3|            43361|     8239|             51600|Production Techni...|     Technician|           No|Fully Meets|\n+-----+----------+-------+---------+-------+------+--------------+------------+----------+----------+------------+------+----------+---------------------+-----------------+---------+------------------+--------------------+---------------+-------------+-----------+\nonly showing top 5 rows\n\n"
     ]
    }
   ],
   "source": [
    "new_df = hr_df.withColumnRenamed(\"Employee ID\",\"ID\")\n",
    "new_df.show(5)"
   ]
  },
  {
   "cell_type": "code",
   "execution_count": 0,
   "metadata": {
    "application/vnd.databricks.v1+cell": {
     "cellMetadata": {
      "byteLimit": 2048000,
      "rowLimit": 10000
     },
     "collapsed": true,
     "inputWidgets": {},
     "nuid": "9fed6f58-68a9-4b52-ada7-489975c01dd6",
     "showTitle": false,
     "title": ""
    }
   },
   "outputs": [
    {
     "output_type": "stream",
     "name": "stdout",
     "output_type": "stream",
     "text": [
      "root\n |-- Employee ID: integer (nullable = true)\n |-- DOB: date (nullable = true)\n |-- Emp Age: string (nullable = true)\n |-- Surname: string (nullable = true)\n |-- Name: string (nullable = true)\n |-- Gender: string (nullable = true)\n |-- Marital Status: string (nullable = true)\n |-- Branch: string (nullable = true)\n |-- Hire Date: date (nullable = true)\n |-- Leave Date: date (nullable = true)\n |-- Leave Reason: string (nullable = true)\n |-- Status: string (nullable = true)\n |-- Department: string (nullable = true)\n |-- Employee Satisfaction: integer (nullable = true)\n |-- Annual Salary ($): integer (nullable = true)\n |-- Bonus ($): integer (nullable = true)\n |-- Total Compensation: integer (nullable = true)\n |-- Job Title: string (nullable = true)\n |-- Job Description: string (nullable = true)\n |-- Manager (Y/N): string (nullable = true)\n |-- Performance: string (nullable = true)\n\n"
     ]
    }
   ],
   "source": [
    "hr_df.withColumn(\"Emp Age\",col(\"Emp Age\").cast(\"string\")).printSchema()"
   ]
  },
  {
   "cell_type": "markdown",
   "metadata": {
    "application/vnd.databricks.v1+cell": {
     "cellMetadata": {},
     "inputWidgets": {},
     "nuid": "dbe7f6c0-98b3-4aed-b4f7-cb9d18b9c7e3",
     "showTitle": false,
     "title": ""
    }
   },
   "source": [
    "# If Else ( When )"
   ]
  },
  {
   "cell_type": "code",
   "execution_count": 0,
   "metadata": {
    "application/vnd.databricks.v1+cell": {
     "cellMetadata": {
      "byteLimit": 2048000,
      "rowLimit": 10000
     },
     "inputWidgets": {},
     "nuid": "6fff0095-f0d2-4b16-84a7-a5ac35c46917",
     "showTitle": false,
     "title": ""
    }
   },
   "outputs": [
    {
     "output_type": "stream",
     "name": "stdout",
     "output_type": "stream",
     "text": [
      "+----+-------+----+------+-------+-----------+\n|  id|   name| age|salary|country|       dept|\n+----+-------+----+------+-------+-----------+\n|   1| manish|  26| 20000|  india|         IT|\n|   2|  rahul|null| 40000|germany|engineering|\n|   3|  pawan|  12| 60000|  india|      sales|\n|   4|roshini|  44|  null|     uk|engineering|\n|   5|raushan|  35| 70000|  india|      sales|\n|   6|   null|  29|200000|     uk|         IT|\n|   7|   adam|  37| 65000|     us|         IT|\n|   8|  chris|  16| 40000|     us|      sales|\n|null|   null|null|  null|   null|       null|\n|   7|   adam|  37| 65000|     us|         IT|\n+----+-------+----+------+-------+-----------+\n\n"
     ]
    }
   ],
   "source": [
    "emp_data = [\n",
    "(1,'manish',26,20000,'india','IT'),\n",
    "(2,'rahul',None,40000,'germany','engineering'),\n",
    "(3,'pawan',12,60000,'india','sales'),\n",
    "(4,'roshini',44,None,'uk','engineering'),\n",
    "(5,'raushan',35,70000,'india','sales'),\n",
    "(6,None,29,200000,'uk','IT'),\n",
    "(7,'adam',37,65000,'us','IT'),\n",
    "(8,'chris',16,40000,'us','sales'),\n",
    "(None,None,None,None,None,None),\n",
    "(7,'adam',37,65000,'us','IT')\n",
    "]\n",
    "\n",
    "emp_schema = ['id','name','age','salary','country','dept']\n",
    "emp_df = spark.createDataFrame(data = emp_data, schema = emp_schema)\n",
    "emp_df.show()\n"
   ]
  },
  {
   "cell_type": "code",
   "execution_count": 0,
   "metadata": {
    "application/vnd.databricks.v1+cell": {
     "cellMetadata": {
      "byteLimit": 2048000,
      "rowLimit": 10000
     },
     "inputWidgets": {},
     "nuid": "dcb1197b-0099-40b0-a261-3bb63fa942f0",
     "showTitle": false,
     "title": ""
    }
   },
   "outputs": [
    {
     "output_type": "stream",
     "name": "stdout",
     "output_type": "stream",
     "text": [
      "+----+-------+----+------+-------+-----------+-------+\n|  id|   name| age|salary|country|       dept|  adult|\n+----+-------+----+------+-------+-----------+-------+\n|   1| manish|  26| 20000|  india|         IT|    Yes|\n|   2|  rahul|null| 40000|germany|engineering|Novalue|\n|   3|  pawan|  12| 60000|  india|      sales|     No|\n|   4|roshini|  44|  null|     uk|engineering|    Yes|\n|   5|raushan|  35| 70000|  india|      sales|    Yes|\n|   6|   null|  29|200000|     uk|         IT|    Yes|\n|   7|   adam|  37| 65000|     us|         IT|    Yes|\n|   8|  chris|  16| 40000|     us|      sales|     No|\n|null|   null|null|  null|   null|       null|Novalue|\n|   7|   adam|  37| 65000|     us|         IT|    Yes|\n+----+-------+----+------+-------+-----------+-------+\n\n"
     ]
    }
   ],
   "source": [
    "emp_df.withColumn(\"adult\",when(col(\"age\")<18,\"No\").when(col(\"age\")>18,\"Yes\").otherwise(\"Novalue\")).show()"
   ]
  },
  {
   "cell_type": "code",
   "execution_count": 0,
   "metadata": {
    "application/vnd.databricks.v1+cell": {
     "cellMetadata": {
      "byteLimit": 2048000,
      "rowLimit": 10000
     },
     "inputWidgets": {},
     "nuid": "c7968cab-9cc8-4c1c-ac1b-e14f4ca90a55",
     "showTitle": false,
     "title": ""
    }
   },
   "outputs": [
    {
     "output_type": "stream",
     "name": "stdout",
     "output_type": "stream",
     "text": [
      "+----+-------+---+------+-------+-----------+-----+\n|  id|   name|age|salary|country|       dept|adult|\n+----+-------+---+------+-------+-----------+-----+\n|   1| manish| 26| 20000|  india|         IT|  yes|\n|   2|  rahul| 19| 40000|germany|engineering|  yes|\n|   3|  pawan| 12| 60000|  india|      sales|   No|\n|   4|roshini| 44|  null|     uk|engineering|  yes|\n|   5|raushan| 35| 70000|  india|      sales|  yes|\n|   6|   null| 29|200000|     uk|         IT|  yes|\n|   7|   adam| 37| 65000|     us|         IT|  yes|\n|   8|  chris| 16| 40000|     us|      sales|   No|\n|null|   null| 19|  null|   null|       null|  yes|\n|   7|   adam| 37| 65000|     us|         IT|  yes|\n+----+-------+---+------+-------+-----------+-----+\n\n"
     ]
    }
   ],
   "source": [
    "emp_df.withColumn(\"age\",when(col(\"age\").isNull(),lit(19)).otherwise(col(\"age\")))\\\n",
    "    .withColumn(\"adult\",when(col(\"age\")>18,\"yes\").otherwise(\"No\")).show()"
   ]
  },
  {
   "cell_type": "markdown",
   "metadata": {
    "application/vnd.databricks.v1+cell": {
     "cellMetadata": {},
     "inputWidgets": {},
     "nuid": "63cb0795-018e-4f2d-bd70-50b0ca3434b5",
     "showTitle": false,
     "title": ""
    }
   },
   "source": [
    "## Unique and Sorted"
   ]
  },
  {
   "cell_type": "code",
   "execution_count": 0,
   "metadata": {
    "application/vnd.databricks.v1+cell": {
     "cellMetadata": {
      "byteLimit": 2048000,
      "rowLimit": 10000
     },
     "inputWidgets": {},
     "nuid": "32e95ecb-e7b6-4d5c-8ec0-5b883b02d49e",
     "showTitle": false,
     "title": ""
    }
   },
   "outputs": [],
   "source": [
    "data=[(10 ,'Anil',50000, 18),\n",
    "(11 ,'Vikas',75000,  16),\n",
    "(12 ,'Nisha',40000,  18),\n",
    "(13 ,'Nidhi',60000,  17),\n",
    "(14 ,'Priya',80000,  18),\n",
    "(15 ,'Mohit',45000,  18),\n",
    "(16 ,'Rajesh',90000, 10),\n",
    "(17 ,'Raman',55000, 16),\n",
    "(18 ,'Sam',65000,   17),\n",
    "(15 ,'Mohit',45000,  18),\n",
    "(13 ,'Nidhi',60000,  17),      \n",
    "(14 ,'Priya',90000,  18),  \n",
    "(18 ,'Sam',65000,   17)\n",
    "     ]\n",
    "\n",
    "data_schema = ['id','name','salary','mngr_id']\n",
    "\n",
    "data_df = spark.createDataFrame(data=data,schema = data_schema)"
   ]
  },
  {
   "cell_type": "code",
   "execution_count": 0,
   "metadata": {
    "application/vnd.databricks.v1+cell": {
     "cellMetadata": {
      "byteLimit": 2048000,
      "rowLimit": 10000
     },
     "inputWidgets": {},
     "nuid": "e421a88b-69e6-4e13-9f03-489a82767c06",
     "showTitle": false,
     "title": ""
    }
   },
   "outputs": [
    {
     "output_type": "stream",
     "name": "stdout",
     "output_type": "stream",
     "text": [
      "Out[6]: 10"
     ]
    }
   ],
   "source": [
    "data_df.distinct().count()"
   ]
  },
  {
   "cell_type": "code",
   "execution_count": 0,
   "metadata": {
    "application/vnd.databricks.v1+cell": {
     "cellMetadata": {
      "byteLimit": 2048000,
      "rowLimit": 10000
     },
     "inputWidgets": {},
     "nuid": "e9e2662c-00cb-4d17-b0d7-f4fe7a0f0ab9",
     "showTitle": false,
     "title": ""
    }
   },
   "outputs": [
    {
     "output_type": "stream",
     "name": "stdout",
     "output_type": "stream",
     "text": [
      "Out[7]: 9"
     ]
    }
   ],
   "source": [
    "data_df.select('id','name').distinct().count()"
   ]
  },
  {
   "cell_type": "code",
   "execution_count": 0,
   "metadata": {
    "application/vnd.databricks.v1+cell": {
     "cellMetadata": {
      "byteLimit": 2048000,
      "rowLimit": 10000
     },
     "inputWidgets": {},
     "nuid": "aba04b61-35a5-4d07-bab8-6770fed70757",
     "showTitle": false,
     "title": ""
    }
   },
   "outputs": [
    {
     "output_type": "stream",
     "name": "stdout",
     "output_type": "stream",
     "text": [
      "+---+------+------+-------+\n| id|  name|salary|mngr_id|\n+---+------+------+-------+\n| 10|  Anil| 50000|     18|\n| 12| Nisha| 40000|     18|\n| 11| Vikas| 75000|     16|\n| 13| Nidhi| 60000|     17|\n| 15| Mohit| 45000|     18|\n| 14| Priya| 80000|     18|\n| 16|Rajesh| 90000|     10|\n| 17| Raman| 55000|     16|\n| 18|   Sam| 65000|     17|\n| 14| Priya| 90000|     18|\n+---+------+------+-------+\n\n"
     ]
    }
   ],
   "source": [
    "data_df.drop_duplicates(['id','name','salary','mngr_id']).show()"
   ]
  },
  {
   "cell_type": "code",
   "execution_count": 0,
   "metadata": {
    "application/vnd.databricks.v1+cell": {
     "cellMetadata": {
      "byteLimit": 2048000,
      "rowLimit": 10000
     },
     "inputWidgets": {},
     "nuid": "f28429a4-fe73-424b-967d-9f0bb3e93a2f",
     "showTitle": false,
     "title": ""
    }
   },
   "outputs": [
    {
     "output_type": "stream",
     "name": "stdout",
     "output_type": "stream",
     "text": [
      "+---+------+------+-------+\n| id|  name|salary|mngr_id|\n+---+------+------+-------+\n| 11| Vikas| 75000|     16|\n| 18|   Sam| 65000|     17|\n| 18|   Sam| 65000|     17|\n| 17| Raman| 55000|     16|\n| 16|Rajesh| 90000|     10|\n| 14| Priya| 80000|     18|\n| 14| Priya| 90000|     18|\n| 12| Nisha| 40000|     18|\n| 13| Nidhi| 60000|     17|\n| 13| Nidhi| 60000|     17|\n| 15| Mohit| 45000|     18|\n| 15| Mohit| 45000|     18|\n| 10|  Anil| 50000|     18|\n+---+------+------+-------+\n\n"
     ]
    }
   ],
   "source": [
    "data_df.sort(col('name').desc()).show()"
   ]
  },
  {
   "cell_type": "markdown",
   "metadata": {
    "application/vnd.databricks.v1+cell": {
     "cellMetadata": {},
     "inputWidgets": {},
     "nuid": "465c25fd-227f-4bf1-aff8-97302f6d0665",
     "showTitle": false,
     "title": ""
    }
   },
   "source": [
    "# JOINS"
   ]
  },
  {
   "cell_type": "code",
   "execution_count": 0,
   "metadata": {
    "application/vnd.databricks.v1+cell": {
     "cellMetadata": {
      "byteLimit": 2048000,
      "rowLimit": 10000
     },
     "inputWidgets": {},
     "nuid": "bf926643-d0ec-4279-ba5e-b3026232e87f",
     "showTitle": false,
     "title": ""
    }
   },
   "outputs": [],
   "source": [
    "customer_data = [(1,'manish','patna',\"30-05-2022\"),\n",
    "(2,'vikash','kolkata',\"12-03-2023\"),\n",
    "(3,'nikita','delhi',\"25-06-2023\"),\n",
    "(4,'rahul','ranchi',\"24-03-2023\"),\n",
    "(5,'mahesh','jaipur',\"22-03-2023\"),\n",
    "(6,'prantosh','kolkata',\"18-10-2022\"),\n",
    "(7,'raman','patna',\"30-12-2022\"),\n",
    "(8,'prakash','ranchi',\"24-02-2023\"),\n",
    "(9,'ragini','kolkata',\"03-03-2023\"),\n",
    "(10,'raushan','jaipur',\"05-02-2023\")]\n",
    "\n",
    "customer_schema=['customer_id','customer_name','address','date_of_joining']\n",
    "customer_df = spark.createDataFrame(data = customer_data, schema = customer_schema)\n",
    "\n",
    "sales_data = [(1,22,10,\"01-06-2022\"),\n",
    "(1,27,5,\"03-02-2023\"),\n",
    "(2,5,3,\"01-06-2023\"),\n",
    "(5,22,1,\"22-03-2023\"),\n",
    "(7,22,4,\"03-02-2023\"),\n",
    "(9,5,6,\"03-03-2023\"),\n",
    "(2,1,12,\"15-06-2023\"),\n",
    "(1,56,2,\"25-06-2023\"),\n",
    "(5,12,5,\"15-04-2023\"),\n",
    "(11,12,76,\"12-03-2023\")]\n",
    "\n",
    "sales_schema=['customer_id','product_id','quantity','date_of_purchase']\n",
    "sales_df = spark.createDataFrame(data= sales_data, schema = sales_schema)\n",
    "\n",
    "product_data = [(1, 'fanta',20),\n",
    "(2, 'dew',22),\n",
    "(5, 'sprite',40),\n",
    "(7, 'redbull',100),\n",
    "(12,'mazza',45),\n",
    "(22,'coke',27),\n",
    "(25,'limca',21),\n",
    "(27,'pepsi',14),\n",
    "(56,'sting',10)]\n",
    "\n",
    "product_schema=['id','name','price']\n",
    "product_df = spark.createDataFrame(data = product_data, schema = product_schema)"
   ]
  },
  {
   "cell_type": "code",
   "execution_count": 0,
   "metadata": {
    "application/vnd.databricks.v1+cell": {
     "cellMetadata": {
      "byteLimit": 2048000,
      "rowLimit": 10000
     },
     "inputWidgets": {},
     "nuid": "006dfc46-9877-49da-a4e0-b408b71b8f38",
     "showTitle": false,
     "title": ""
    }
   },
   "outputs": [
    {
     "output_type": "stream",
     "name": "stdout",
     "output_type": "stream",
     "text": [
      "+-----------+-------------+-------+---------------+-----------+----------+--------+----------------+\n|customer_id|customer_name|address|date_of_joining|customer_id|product_id|quantity|date_of_purchase|\n+-----------+-------------+-------+---------------+-----------+----------+--------+----------------+\n|          1|       manish|  patna|     30-05-2022|          1|        22|      10|      01-06-2022|\n|          1|       manish|  patna|     30-05-2022|          1|        27|       5|      03-02-2023|\n|          1|       manish|  patna|     30-05-2022|          1|        56|       2|      25-06-2023|\n|          2|       vikash|kolkata|     12-03-2023|          2|         5|       3|      01-06-2023|\n|          2|       vikash|kolkata|     12-03-2023|          2|         1|      12|      15-06-2023|\n|          5|       mahesh| jaipur|     22-03-2023|          5|        22|       1|      22-03-2023|\n|          5|       mahesh| jaipur|     22-03-2023|          5|        12|       5|      15-04-2023|\n|          7|        raman|  patna|     30-12-2022|          7|        22|       4|      03-02-2023|\n|          9|       ragini|kolkata|     03-03-2023|          9|         5|       6|      03-03-2023|\n+-----------+-------------+-------+---------------+-----------+----------+--------+----------------+\n\n+-----------+-------------+-------+---------------+-----------+----------+--------+----------------+\n|customer_id|customer_name|address|date_of_joining|customer_id|product_id|quantity|date_of_purchase|\n+-----------+-------------+-------+---------------+-----------+----------+--------+----------------+\n|          1|       manish|  patna|     30-05-2022|          1|        56|       2|      25-06-2023|\n|          1|       manish|  patna|     30-05-2022|          1|        27|       5|      03-02-2023|\n|          1|       manish|  patna|     30-05-2022|          1|        22|      10|      01-06-2022|\n|          2|       vikash|kolkata|     12-03-2023|          2|         1|      12|      15-06-2023|\n|          2|       vikash|kolkata|     12-03-2023|          2|         5|       3|      01-06-2023|\n|          3|       nikita|  delhi|     25-06-2023|       null|      null|    null|            null|\n|          4|        rahul| ranchi|     24-03-2023|       null|      null|    null|            null|\n|          5|       mahesh| jaipur|     22-03-2023|          5|        12|       5|      15-04-2023|\n|          5|       mahesh| jaipur|     22-03-2023|          5|        22|       1|      22-03-2023|\n|          6|     prantosh|kolkata|     18-10-2022|       null|      null|    null|            null|\n|          7|        raman|  patna|     30-12-2022|          7|        22|       4|      03-02-2023|\n|          8|      prakash| ranchi|     24-02-2023|       null|      null|    null|            null|\n|          9|       ragini|kolkata|     03-03-2023|          9|         5|       6|      03-03-2023|\n|         10|      raushan| jaipur|     05-02-2023|       null|      null|    null|            null|\n+-----------+-------------+-------+---------------+-----------+----------+--------+----------------+\n\n"
     ]
    }
   ],
   "source": [
    "customer_df.join(sales_df,customer_df['customer_id'] == sales_df['customer_id'],'inner').show()\n",
    "customer_df.join(sales_df,customer_df['customer_id'] == sales_df['customer_id'],'left').show()"
   ]
  },
  {
   "cell_type": "code",
   "execution_count": 0,
   "metadata": {
    "application/vnd.databricks.v1+cell": {
     "cellMetadata": {
      "byteLimit": 2048000,
      "rowLimit": 10000
     },
     "inputWidgets": {},
     "nuid": "1563f90d-9038-4754-978f-2fcb24fc8e0f",
     "showTitle": false,
     "title": ""
    }
   },
   "outputs": [
    {
     "output_type": "stream",
     "name": "stdout",
     "output_type": "stream",
     "text": [
      "+-----------+----------+--------+----------------+---+-------+-----+\n|customer_id|product_id|quantity|date_of_purchase| id|   name|price|\n+-----------+----------+--------+----------------+---+-------+-----+\n|          2|         1|      12|      15-06-2023|  1|  fanta|   20|\n|       null|      null|    null|            null|  2|    dew|   22|\n|          9|         5|       6|      03-03-2023|  5| sprite|   40|\n|          2|         5|       3|      01-06-2023|  5| sprite|   40|\n|       null|      null|    null|            null|  7|redbull|  100|\n|         11|        12|      76|      12-03-2023| 12|  mazza|   45|\n|          5|        12|       5|      15-04-2023| 12|  mazza|   45|\n|          7|        22|       4|      03-02-2023| 22|   coke|   27|\n|          5|        22|       1|      22-03-2023| 22|   coke|   27|\n|          1|        22|      10|      01-06-2022| 22|   coke|   27|\n|       null|      null|    null|            null| 25|  limca|   21|\n|          1|        27|       5|      03-02-2023| 27|  pepsi|   14|\n|          1|        56|       2|      25-06-2023| 56|  sting|   10|\n+-----------+----------+--------+----------------+---+-------+-----+\n\n"
     ]
    }
   ],
   "source": [
    "sales_df.join(product_df,sales_df['product_id'] == product_df['id'],'right').show()"
   ]
  },
  {
   "cell_type": "code",
   "execution_count": 0,
   "metadata": {
    "application/vnd.databricks.v1+cell": {
     "cellMetadata": {
      "byteLimit": 2048000,
      "rowLimit": 10000
     },
     "inputWidgets": {},
     "nuid": "53513e0b-1946-4252-afc0-bb124f64d7ba",
     "showTitle": false,
     "title": ""
    }
   },
   "outputs": [
    {
     "output_type": "stream",
     "name": "stdout",
     "output_type": "stream",
     "text": [
      "+-----------+-------------+-------+---------------+-----------+----------+--------+----------------+\n|customer_id|customer_name|address|date_of_joining|customer_id|product_id|quantity|date_of_purchase|\n+-----------+-------------+-------+---------------+-----------+----------+--------+----------------+\n|          1|       manish|  patna|     30-05-2022|          1|        22|      10|      01-06-2022|\n|          1|       manish|  patna|     30-05-2022|          1|        27|       5|      03-02-2023|\n|          1|       manish|  patna|     30-05-2022|          1|        56|       2|      25-06-2023|\n|          2|       vikash|kolkata|     12-03-2023|          2|         5|       3|      01-06-2023|\n|          2|       vikash|kolkata|     12-03-2023|          2|         1|      12|      15-06-2023|\n|          3|       nikita|  delhi|     25-06-2023|       null|      null|    null|            null|\n|          4|        rahul| ranchi|     24-03-2023|       null|      null|    null|            null|\n|          5|       mahesh| jaipur|     22-03-2023|          5|        22|       1|      22-03-2023|\n|          5|       mahesh| jaipur|     22-03-2023|          5|        12|       5|      15-04-2023|\n|          6|     prantosh|kolkata|     18-10-2022|       null|      null|    null|            null|\n|          7|        raman|  patna|     30-12-2022|          7|        22|       4|      03-02-2023|\n|          8|      prakash| ranchi|     24-02-2023|       null|      null|    null|            null|\n|          9|       ragini|kolkata|     03-03-2023|          9|         5|       6|      03-03-2023|\n|         10|      raushan| jaipur|     05-02-2023|       null|      null|    null|            null|\n|       null|         null|   null|           null|         11|        12|      76|      12-03-2023|\n+-----------+-------------+-------+---------------+-----------+----------+--------+----------------+\n\n"
     ]
    }
   ],
   "source": [
    "customer_df.join(sales_df,customer_df['customer_id'] == sales_df['customer_id'],'outer').show()"
   ]
  },
  {
   "cell_type": "code",
   "execution_count": 0,
   "metadata": {
    "application/vnd.databricks.v1+cell": {
     "cellMetadata": {
      "byteLimit": 2048000,
      "rowLimit": 10000
     },
     "inputWidgets": {},
     "nuid": "7c2fa910-e13f-4be5-b17a-565d4ef178c8",
     "showTitle": false,
     "title": ""
    }
   },
   "outputs": [
    {
     "output_type": "stream",
     "name": "stdout",
     "output_type": "stream",
     "text": [
      "+-----------+-------------+-------+---------------+\n|customer_id|customer_name|address|date_of_joining|\n+-----------+-------------+-------+---------------+\n|          3|       nikita|  delhi|     25-06-2023|\n|          4|        rahul| ranchi|     24-03-2023|\n|          6|     prantosh|kolkata|     18-10-2022|\n|          8|      prakash| ranchi|     24-02-2023|\n|         10|      raushan| jaipur|     05-02-2023|\n+-----------+-------------+-------+---------------+\n\n"
     ]
    }
   ],
   "source": [
    "customer_df.join(sales_df,customer_df['customer_id'] == sales_df['customer_id'],'left_anti').show()"
   ]
  },
  {
   "cell_type": "code",
   "execution_count": 0,
   "metadata": {
    "application/vnd.databricks.v1+cell": {
     "cellMetadata": {
      "byteLimit": 2048000,
      "rowLimit": 10000
     },
     "inputWidgets": {},
     "nuid": "77e4cdd0-544a-45a8-b30e-6597ec3686d2",
     "showTitle": false,
     "title": ""
    }
   },
   "outputs": [
    {
     "output_type": "stream",
     "name": "stdout",
     "output_type": "stream",
     "text": [
      "+-----------+-------------+-------+---------------+-----------+----------+--------+----------------+\n|customer_id|customer_name|address|date_of_joining|customer_id|product_id|quantity|date_of_purchase|\n+-----------+-------------+-------+---------------+-----------+----------+--------+----------------+\n|          1|       manish|  patna|     30-05-2022|          1|        22|      10|      01-06-2022|\n|          1|       manish|  patna|     30-05-2022|          1|        27|       5|      03-02-2023|\n|          1|       manish|  patna|     30-05-2022|          2|         5|       3|      01-06-2023|\n|          1|       manish|  patna|     30-05-2022|          5|        22|       1|      22-03-2023|\n|          1|       manish|  patna|     30-05-2022|          7|        22|       4|      03-02-2023|\n|          1|       manish|  patna|     30-05-2022|          9|         5|       6|      03-03-2023|\n|          1|       manish|  patna|     30-05-2022|          2|         1|      12|      15-06-2023|\n|          1|       manish|  patna|     30-05-2022|          1|        56|       2|      25-06-2023|\n|          1|       manish|  patna|     30-05-2022|          5|        12|       5|      15-04-2023|\n|          1|       manish|  patna|     30-05-2022|         11|        12|      76|      12-03-2023|\n|          2|       vikash|kolkata|     12-03-2023|          1|        22|      10|      01-06-2022|\n|          2|       vikash|kolkata|     12-03-2023|          1|        27|       5|      03-02-2023|\n|          2|       vikash|kolkata|     12-03-2023|          2|         5|       3|      01-06-2023|\n|          2|       vikash|kolkata|     12-03-2023|          5|        22|       1|      22-03-2023|\n|          2|       vikash|kolkata|     12-03-2023|          7|        22|       4|      03-02-2023|\n|          2|       vikash|kolkata|     12-03-2023|          9|         5|       6|      03-03-2023|\n|          2|       vikash|kolkata|     12-03-2023|          2|         1|      12|      15-06-2023|\n|          2|       vikash|kolkata|     12-03-2023|          1|        56|       2|      25-06-2023|\n|          2|       vikash|kolkata|     12-03-2023|          5|        12|       5|      15-04-2023|\n|          2|       vikash|kolkata|     12-03-2023|         11|        12|      76|      12-03-2023|\n+-----------+-------------+-------+---------------+-----------+----------+--------+----------------+\nonly showing top 20 rows\n\n"
     ]
    }
   ],
   "source": [
    "customer_df.crossJoin(sales_df).show()"
   ]
  },
  {
   "cell_type": "markdown",
   "metadata": {
    "application/vnd.databricks.v1+cell": {
     "cellMetadata": {},
     "inputWidgets": {},
     "nuid": "1b5b1d8e-eb52-423a-8f25-47091972b91d",
     "showTitle": false,
     "title": ""
    }
   },
   "source": [
    "# Window Funtions"
   ]
  },
  {
   "cell_type": "code",
   "execution_count": 0,
   "metadata": {
    "application/vnd.databricks.v1+cell": {
     "cellMetadata": {
      "byteLimit": 2048000,
      "rowLimit": 10000
     },
     "inputWidgets": {},
     "nuid": "5819831f-d2c5-43eb-877a-139bcb7db15c",
     "showTitle": false,
     "title": ""
    }
   },
   "outputs": [],
   "source": [
    "emp_data = [(1,'manish',50000,'IT','m'),\n",
    "(2,'vikash',60000,'sales','m'),\n",
    "(3,'raushan',70000,'marketing','m'),\n",
    "(4,'mukesh',80000,'IT','m'),\n",
    "(5,'priti',90000,'sales','f'),\n",
    "(6,'nikita',45000,'marketing','f'),\n",
    "(7,'ragini',55000,'marketing','f'),\n",
    "(8,'rashi',100000,'IT','f'),\n",
    "(9,'aditya',65000,'IT','m'),\n",
    "(10,'rahul',50000,'marketing','m'),\n",
    "(11,'rakhi',50000,'IT','f'),\n",
    "(12,'akhilesh',90000,'sales','m')]\n",
    "\n",
    "emp_schema = ['id','name','sal','dept','gender']\n",
    "\n",
    "emp_df = spark.createDataFrame(data = emp_data,schema = emp_schema)"
   ]
  },
  {
   "cell_type": "code",
   "execution_count": 0,
   "metadata": {
    "application/vnd.databricks.v1+cell": {
     "cellMetadata": {
      "byteLimit": 2048000,
      "rowLimit": 10000
     },
     "inputWidgets": {},
     "nuid": "78339060-35f3-435f-98e8-9265f4b9bf99",
     "showTitle": false,
     "title": ""
    }
   },
   "outputs": [
    {
     "output_type": "stream",
     "name": "stdout",
     "output_type": "stream",
     "text": [
      "+---------+--------+\n|     dept|sum(sal)|\n+---------+--------+\n|       IT|  345000|\n|marketing|  220000|\n|    sales|  240000|\n+---------+--------+\n\n"
     ]
    }
   ],
   "source": [
    "emp_df.groupBy('dept').agg(sum('sal')).show()"
   ]
  },
  {
   "cell_type": "code",
   "execution_count": 0,
   "metadata": {
    "application/vnd.databricks.v1+cell": {
     "cellMetadata": {
      "byteLimit": 2048000,
      "rowLimit": 10000
     },
     "inputWidgets": {},
     "nuid": "9cced1ab-b957-431a-b5a9-b55c97dc25dc",
     "showTitle": false,
     "title": ""
    }
   },
   "outputs": [
    {
     "output_type": "stream",
     "name": "stdout",
     "output_type": "stream",
     "text": [
      "+---+--------+------+---------+------+------------+\n|id |name    |sal   |dept     |gender|Total Salary|\n+---+--------+------+---------+------+------------+\n|1  |manish  |50000 |IT       |m     |345000      |\n|4  |mukesh  |80000 |IT       |m     |345000      |\n|8  |rashi   |100000|IT       |f     |345000      |\n|9  |aditya  |65000 |IT       |m     |345000      |\n|11 |rakhi   |50000 |IT       |f     |345000      |\n|3  |raushan |70000 |marketing|m     |220000      |\n|6  |nikita  |45000 |marketing|f     |220000      |\n|7  |ragini  |55000 |marketing|f     |220000      |\n|10 |rahul   |50000 |marketing|m     |220000      |\n|2  |vikash  |60000 |sales    |m     |240000      |\n|5  |priti   |90000 |sales    |f     |240000      |\n|12 |akhilesh|90000 |sales    |m     |240000      |\n+---+--------+------+---------+------+------------+\n\n"
     ]
    }
   ],
   "source": [
    "window = Window.partitionBy('dept')\n",
    "emp_df.withColumn('Total Salary', sum(col('sal')).over(window)).show(truncate=False)"
   ]
  },
  {
   "cell_type": "code",
   "execution_count": 0,
   "metadata": {
    "application/vnd.databricks.v1+cell": {
     "cellMetadata": {
      "byteLimit": 2048000,
      "rowLimit": 10000
     },
     "inputWidgets": {},
     "nuid": "05ec4d98-a10b-4bf6-80a5-98f804cbafaf",
     "showTitle": false,
     "title": ""
    }
   },
   "outputs": [
    {
     "output_type": "stream",
     "name": "stdout",
     "output_type": "stream",
     "text": [
      "+---+--------+------+---------+------+----------+\n|id |name    |sal   |dept     |gender|Row Number|\n+---+--------+------+---------+------+----------+\n|1  |manish  |50000 |IT       |m     |1         |\n|11 |rakhi   |50000 |IT       |f     |2         |\n|9  |aditya  |65000 |IT       |m     |3         |\n|4  |mukesh  |80000 |IT       |m     |4         |\n|8  |rashi   |100000|IT       |f     |5         |\n|6  |nikita  |45000 |marketing|f     |1         |\n|10 |rahul   |50000 |marketing|m     |2         |\n|7  |ragini  |55000 |marketing|f     |3         |\n|3  |raushan |70000 |marketing|m     |4         |\n|2  |vikash  |60000 |sales    |m     |1         |\n|5  |priti   |90000 |sales    |f     |2         |\n|12 |akhilesh|90000 |sales    |m     |3         |\n+---+--------+------+---------+------+----------+\n\n"
     ]
    }
   ],
   "source": [
    "window = Window.partitionBy('dept').orderBy('sal')\n",
    "emp_df.withColumn('Row Number', row_number().over(window)).show(truncate=False)"
   ]
  },
  {
   "cell_type": "code",
   "execution_count": 0,
   "metadata": {
    "application/vnd.databricks.v1+cell": {
     "cellMetadata": {
      "byteLimit": 2048000,
      "rowLimit": 10000
     },
     "inputWidgets": {},
     "nuid": "1bb16c15-2df2-4c64-bf72-da24f11efa76",
     "showTitle": false,
     "title": ""
    }
   },
   "outputs": [
    {
     "output_type": "stream",
     "name": "stdout",
     "output_type": "stream",
     "text": [
      "+---+--------+------+---------+------+----+\n|id |name    |sal   |dept     |gender|Rank|\n+---+--------+------+---------+------+----+\n|1  |manish  |50000 |IT       |m     |1   |\n|11 |rakhi   |50000 |IT       |f     |1   |\n|9  |aditya  |65000 |IT       |m     |3   |\n|4  |mukesh  |80000 |IT       |m     |4   |\n|8  |rashi   |100000|IT       |f     |5   |\n|6  |nikita  |45000 |marketing|f     |1   |\n|10 |rahul   |50000 |marketing|m     |2   |\n|7  |ragini  |55000 |marketing|f     |3   |\n|3  |raushan |70000 |marketing|m     |4   |\n|2  |vikash  |60000 |sales    |m     |1   |\n|5  |priti   |90000 |sales    |f     |2   |\n|12 |akhilesh|90000 |sales    |m     |2   |\n+---+--------+------+---------+------+----+\n\n"
     ]
    }
   ],
   "source": [
    "window = Window.partitionBy('dept').orderBy('sal')\n",
    "emp_df.withColumn('Rank', rank().over(window)).show(truncate=False)"
   ]
  },
  {
   "cell_type": "code",
   "execution_count": 0,
   "metadata": {
    "application/vnd.databricks.v1+cell": {
     "cellMetadata": {
      "byteLimit": 2048000,
      "rowLimit": 10000
     },
     "inputWidgets": {},
     "nuid": "243ff351-6c40-4a39-a552-179b59f0fc00",
     "showTitle": false,
     "title": ""
    }
   },
   "outputs": [
    {
     "output_type": "stream",
     "name": "stdout",
     "output_type": "stream",
     "text": [
      "+---+--------+------+---------+------+----------+\n|id |name    |sal   |dept     |gender|Desne Rank|\n+---+--------+------+---------+------+----------+\n|1  |manish  |50000 |IT       |m     |1         |\n|11 |rakhi   |50000 |IT       |f     |1         |\n|9  |aditya  |65000 |IT       |m     |2         |\n|4  |mukesh  |80000 |IT       |m     |3         |\n|8  |rashi   |100000|IT       |f     |4         |\n|6  |nikita  |45000 |marketing|f     |1         |\n|10 |rahul   |50000 |marketing|m     |2         |\n|7  |ragini  |55000 |marketing|f     |3         |\n|3  |raushan |70000 |marketing|m     |4         |\n|2  |vikash  |60000 |sales    |m     |1         |\n|5  |priti   |90000 |sales    |f     |2         |\n|12 |akhilesh|90000 |sales    |m     |2         |\n+---+--------+------+---------+------+----------+\n\n"
     ]
    }
   ],
   "source": [
    "window = Window.partitionBy('dept').orderBy('sal')\n",
    "emp_df.withColumn('Desne Rank', dense_rank().over(window)).show(truncate=False)"
   ]
  },
  {
   "cell_type": "code",
   "execution_count": 0,
   "metadata": {
    "application/vnd.databricks.v1+cell": {
     "cellMetadata": {
      "byteLimit": 2048000,
      "rowLimit": 10000
     },
     "inputWidgets": {},
     "nuid": "80c8398b-ad36-41d8-a515-3e1ada69b431",
     "showTitle": false,
     "title": ""
    }
   },
   "outputs": [
    {
     "output_type": "stream",
     "name": "stdout",
     "output_type": "stream",
     "text": [
      "+---+--------+------+---------+------+----------+----+----------+\n|id |name    |sal   |dept     |gender|Row Number|Rank|Desne Rank|\n+---+--------+------+---------+------+----------+----+----------+\n|1  |manish  |50000 |IT       |m     |1         |1   |1         |\n|11 |rakhi   |50000 |IT       |f     |2         |1   |1         |\n|9  |aditya  |65000 |IT       |m     |3         |3   |2         |\n|4  |mukesh  |80000 |IT       |m     |4         |4   |3         |\n|8  |rashi   |100000|IT       |f     |5         |5   |4         |\n|6  |nikita  |45000 |marketing|f     |1         |1   |1         |\n|10 |rahul   |50000 |marketing|m     |2         |2   |2         |\n|7  |ragini  |55000 |marketing|f     |3         |3   |3         |\n|3  |raushan |70000 |marketing|m     |4         |4   |4         |\n|2  |vikash  |60000 |sales    |m     |1         |1   |1         |\n|5  |priti   |90000 |sales    |f     |2         |2   |2         |\n|12 |akhilesh|90000 |sales    |m     |3         |2   |2         |\n+---+--------+------+---------+------+----------+----+----------+\n\n"
     ]
    }
   ],
   "source": [
    "window = Window.partitionBy('dept').orderBy('sal')\n",
    "\n",
    "\n",
    "emp_df.withColumn('Row Number', row_number().over(window))\\\n",
    "    .withColumn('Rank', rank().over(window))\\\n",
    "    .withColumn('Desne Rank', dense_rank().over(window)).show(truncate=False)"
   ]
  },
  {
   "cell_type": "markdown",
   "metadata": {
    "application/vnd.databricks.v1+cell": {
     "cellMetadata": {},
     "inputWidgets": {},
     "nuid": "0d2eed8b-8d47-49c5-bc41-cd527ad58235",
     "showTitle": false,
     "title": ""
    }
   },
   "source": [
    "# Spark SQL"
   ]
  },
  {
   "cell_type": "code",
   "execution_count": 0,
   "metadata": {
    "application/vnd.databricks.v1+cell": {
     "cellMetadata": {
      "byteLimit": 2048000,
      "rowLimit": 10000
     },
     "inputWidgets": {},
     "nuid": "a76a1e27-2294-4a85-8fd4-1dd8ec3e8246",
     "showTitle": false,
     "title": ""
    }
   },
   "outputs": [],
   "source": [
    "flight_df.createOrReplaceTempView(\"Flight_view\")"
   ]
  },
  {
   "cell_type": "code",
   "execution_count": 0,
   "metadata": {
    "application/vnd.databricks.v1+cell": {
     "cellMetadata": {
      "byteLimit": 2048000,
      "implicitDf": true,
      "rowLimit": 10000
     },
     "inputWidgets": {},
     "nuid": "ae74fc21-e558-412f-ab3d-ecdbed5bfef4",
     "showTitle": false,
     "title": ""
    }
   },
   "outputs": [],
   "source": [
    "%sql\n",
    "select * from Flight_view"
   ]
  },
  {
   "cell_type": "code",
   "execution_count": 0,
   "metadata": {
    "application/vnd.databricks.v1+cell": {
     "cellMetadata": {
      "byteLimit": 2048000,
      "implicitDf": true,
      "rowLimit": 10000
     },
     "inputWidgets": {},
     "nuid": "66ecedb9-d7dc-4691-a6ce-ea31f8b8b43e",
     "showTitle": false,
     "title": ""
    }
   },
   "outputs": [
    {
     "output_type": "stream",
     "name": "stdout",
     "output_type": "stream",
     "text": [
      "+-----------------+-------------------+-----+\n|DEST_COUNTRY_NAME|ORIGIN_COUNTRY_NAME|count|\n+-----------------+-------------------+-----+\n|    United States|            Romania|   15|\n|    United States|            Croatia|    1|\n|    United States|            Ireland|  344|\n|            Egypt|      United States|   15|\n|    United States|              India|   62|\n+-----------------+-------------------+-----+\nonly showing top 5 rows\n\n"
     ]
    }
   ],
   "source": [
    "spark.sql(\"select * from {flight_df}\",flight_df = flight_df).show(5)"
   ]
  },
  {
   "cell_type": "code",
   "execution_count": 0,
   "metadata": {
    "application/vnd.databricks.v1+cell": {
     "cellMetadata": {
      "byteLimit": 2048000,
      "rowLimit": 10000
     },
     "inputWidgets": {},
     "nuid": "eac9f0ba-e9d2-4206-92b9-6aa8bb768506",
     "showTitle": false,
     "title": ""
    }
   },
   "outputs": [
    {
     "output_type": "stream",
     "name": "stdout",
     "output_type": "stream",
     "text": [
      "+----+-------+----+------+-------+-----------+-------+\n|  id|   name| age|salary|country|       dept|  Adult|\n+----+-------+----+------+-------+-----------+-------+\n|   1| manish|  26| 20000|  india|         IT|  Major|\n|   2|  rahul|null| 40000|germany|engineering|Novalue|\n|   3|  pawan|  12| 60000|  india|      sales|  Minor|\n|   4|roshini|  44|  null|     uk|engineering|  Major|\n|   5|raushan|  35| 70000|  india|      sales|  Major|\n|   6|   null|  29|200000|     uk|         IT|  Major|\n|   7|   adam|  37| 65000|     us|         IT|  Major|\n|   8|  chris|  16| 40000|     us|      sales|  Minor|\n|null|   null|null|  null|   null|       null|Novalue|\n|   7|   adam|  37| 65000|     us|         IT|  Major|\n+----+-------+----+------+-------+-----------+-------+\n\n"
     ]
    }
   ],
   "source": [
    "spark.sql(\"\"\"\n",
    "          select *,\n",
    "          case when age<18 then 'Minor'\n",
    "          when age>18 then 'Major'\n",
    "          else 'Novalue'\n",
    "          end as Adult\n",
    "          from {emp_df}\n",
    "          \n",
    "          \"\"\",emp_df = emp_df).show()"
   ]
  },
  {
   "cell_type": "code",
   "execution_count": 0,
   "metadata": {
    "application/vnd.databricks.v1+cell": {
     "cellMetadata": {},
     "inputWidgets": {},
     "nuid": "5d1e6c50-9c4a-4305-ac28-6983c89efd3e",
     "showTitle": false,
     "title": ""
    }
   },
   "outputs": [],
   "source": []
  }
 ],
 "metadata": {
  "application/vnd.databricks.v1+notebook": {
   "dashboards": [],
   "environmentMetadata": null,
   "language": "python",
   "notebookMetadata": {
    "mostRecentlyExecutedCommandWithImplicitDF": {
     "commandId": -1,
     "dataframes": [
      "_sqldf"
     ]
    },
    "pythonIndentUnit": 4
   },
   "notebookName": "Spark Course",
   "widgets": {}
  }
 },
 "nbformat": 4,
 "nbformat_minor": 0
}
