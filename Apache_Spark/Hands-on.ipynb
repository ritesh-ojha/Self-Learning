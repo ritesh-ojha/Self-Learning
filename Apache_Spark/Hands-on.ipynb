{
 "cells": [
  {
   "cell_type": "markdown",
   "metadata": {
    "application/vnd.databricks.v1+cell": {
     "cellMetadata": {},
     "inputWidgets": {},
     "nuid": "2b143eaa-2a5d-4583-b650-733c48eb8b4d",
     "showTitle": false,
     "title": ""
    }
   },
   "source": [
    "# File Reading"
   ]
  },
  {
   "cell_type": "code",
   "execution_count": 0,
   "metadata": {
    "application/vnd.databricks.v1+cell": {
     "cellMetadata": {
      "byteLimit": 2048000,
      "rowLimit": 10000
     },
     "inputWidgets": {},
     "nuid": "b42bf29d-a113-4950-ad23-2a17aa2c0b1d",
     "showTitle": false,
     "title": ""
    }
   },
   "outputs": [],
   "source": [
    "path = \"dbfs:/FileStore/shared_uploads/riteshojha2002@gmail.com/flight_data.csv\""
   ]
  },
  {
   "cell_type": "code",
   "execution_count": 0,
   "metadata": {
    "application/vnd.databricks.v1+cell": {
     "cellMetadata": {
      "byteLimit": 2048000,
      "rowLimit": 10000
     },
     "inputWidgets": {},
     "nuid": "a37a2cc6-3f23-4c23-8c3f-a80a13dca842",
     "showTitle": false,
     "title": ""
    }
   },
   "outputs": [],
   "source": [
    "from pyspark.sql.types import StructType, StructField, StringType, IntegerType"
   ]
  },
  {
   "cell_type": "code",
   "execution_count": 0,
   "metadata": {
    "application/vnd.databricks.v1+cell": {
     "cellMetadata": {
      "byteLimit": 2048000,
      "rowLimit": 10000
     },
     "inputWidgets": {},
     "nuid": "18952c27-1739-484d-9ba6-e7d335c546e9",
     "showTitle": false,
     "title": ""
    }
   },
   "outputs": [],
   "source": [
    "schema = StructType([\n",
    "    StructField(\"DEST_COUNTRY_NAME\", StringType(), True),\n",
    "    StructField(\"ORIGIN_COUNTRY_NAME\", StringType(),True),\n",
    "    StructField(\"count\",StringType(),True)\n",
    "])"
   ]
  },
  {
   "cell_type": "code",
   "execution_count": 0,
   "metadata": {
    "application/vnd.databricks.v1+cell": {
     "cellMetadata": {
      "byteLimit": 2048000,
      "rowLimit": 10000
     },
     "inputWidgets": {},
     "nuid": "b66cd353-8a44-4460-aee9-c8bd8bc5160d",
     "showTitle": false,
     "title": ""
    }
   },
   "outputs": [],
   "source": [
    "flight_df = spark.read.format('csv').option('header','false').option('skipRows',1).schema(schema).load(path)"
   ]
  },
  {
   "cell_type": "code",
   "execution_count": 0,
   "metadata": {
    "application/vnd.databricks.v1+cell": {
     "cellMetadata": {
      "byteLimit": 2048000,
      "rowLimit": 10000
     },
     "collapsed": true,
     "inputWidgets": {},
     "nuid": "a128fa0f-9fa3-4534-b49d-51c5a693db06",
     "showTitle": false,
     "title": ""
    }
   },
   "outputs": [
    {
     "output_type": "stream",
     "name": "stdout",
     "output_type": "stream",
     "text": [
      "+-----------------+-------------------+-----+\n|DEST_COUNTRY_NAME|ORIGIN_COUNTRY_NAME|count|\n+-----------------+-------------------+-----+\n|    United States|            Romania|   15|\n|    United States|            Croatia|    1|\n|    United States|            Ireland|  344|\n|            Egypt|      United States|   15|\n|    United States|              India|   62|\n+-----------------+-------------------+-----+\nonly showing top 5 rows\n\n"
     ]
    }
   ],
   "source": [
    "flight_df.show(5)"
   ]
  },
  {
   "cell_type": "code",
   "execution_count": 0,
   "metadata": {
    "application/vnd.databricks.v1+cell": {
     "cellMetadata": {
      "byteLimit": 2048000,
      "rowLimit": 10000
     },
     "collapsed": true,
     "inputWidgets": {},
     "nuid": "076551da-0760-4fee-8347-49b19a3a3f99",
     "showTitle": false,
     "title": ""
    }
   },
   "outputs": [
    {
     "output_type": "stream",
     "name": "stdout",
     "output_type": "stream",
     "text": [
      "root\n |-- DEST_COUNTRY_NAME: string (nullable = true)\n |-- ORIGIN_COUNTRY_NAME: string (nullable = true)\n |-- count: string (nullable = true)\n\n"
     ]
    }
   ],
   "source": [
    "flight_df.printSchema()"
   ]
  },
  {
   "cell_type": "code",
   "execution_count": 0,
   "metadata": {
    "application/vnd.databricks.v1+cell": {
     "cellMetadata": {
      "byteLimit": 2048000,
      "rowLimit": 10000
     },
     "inputWidgets": {},
     "nuid": "3356cef8-24bb-4cbe-9d00-05e4cae1ef5d",
     "showTitle": false,
     "title": ""
    }
   },
   "outputs": [
    {
     "output_type": "display_data",
     "data": {
      "text/html": [
       "<style scoped>\n",
       "  .table-result-container {\n",
       "    max-height: 300px;\n",
       "    overflow: auto;\n",
       "  }\n",
       "  table, th, td {\n",
       "    border: 1px solid black;\n",
       "    border-collapse: collapse;\n",
       "  }\n",
       "  th, td {\n",
       "    padding: 5px;\n",
       "  }\n",
       "  th {\n",
       "    text-align: left;\n",
       "  }\n",
       "</style><div class='table-result-container'><table class='table-result'><thead style='background-color: white'><tr><th>path</th><th>name</th><th>size</th><th>modificationTime</th></tr></thead><tbody><tr><td>dbfs:/FileStore/shared_uploads/riteshojha2002@gmail.com/2015_summary.csv</td><td>2015_summary.csv</td><td>7080</td><td>1715526321000</td></tr><tr><td>dbfs:/FileStore/shared_uploads/riteshojha2002@gmail.com/HR_Gender_Diversity___Equality.csv</td><td>HR_Gender_Diversity___Equality.csv</td><td>114732</td><td>1713266514000</td></tr><tr><td>dbfs:/FileStore/shared_uploads/riteshojha2002@gmail.com/San_Martin_Stores_2021_New.xlsx</td><td>San_Martin_Stores_2021_New.xlsx</td><td>1455778</td><td>1713266475000</td></tr><tr><td>dbfs:/FileStore/shared_uploads/riteshojha2002@gmail.com/flight_data.csv</td><td>flight_data.csv</td><td>7080</td><td>1715526353000</td></tr></tbody></table></div>"
      ]
     },
     "metadata": {
      "application/vnd.databricks.v1+output": {
       "addedWidgets": {},
       "aggData": [],
       "aggError": "",
       "aggOverflow": false,
       "aggSchema": [],
       "aggSeriesLimitReached": false,
       "aggType": "",
       "arguments": {},
       "columnCustomDisplayInfos": {},
       "data": [
        [
         "dbfs:/FileStore/shared_uploads/riteshojha2002@gmail.com/2015_summary.csv",
         "2015_summary.csv",
         7080,
         1715526321000
        ],
        [
         "dbfs:/FileStore/shared_uploads/riteshojha2002@gmail.com/HR_Gender_Diversity___Equality.csv",
         "HR_Gender_Diversity___Equality.csv",
         114732,
         1713266514000
        ],
        [
         "dbfs:/FileStore/shared_uploads/riteshojha2002@gmail.com/San_Martin_Stores_2021_New.xlsx",
         "San_Martin_Stores_2021_New.xlsx",
         1455778,
         1713266475000
        ],
        [
         "dbfs:/FileStore/shared_uploads/riteshojha2002@gmail.com/flight_data.csv",
         "flight_data.csv",
         7080,
         1715526353000
        ]
       ],
       "datasetInfos": [],
       "dbfsResultPath": null,
       "isJsonSchema": true,
       "metadata": {},
       "overflow": false,
       "plotOptions": {
        "customPlotOptions": {},
        "displayType": "table",
        "pivotAggregation": null,
        "pivotColumns": null,
        "xColumns": null,
        "yColumns": null
       },
       "removedWidgets": [],
       "schema": [
        {
         "metadata": "{}",
         "name": "path",
         "type": "\"string\""
        },
        {
         "metadata": "{}",
         "name": "name",
         "type": "\"string\""
        },
        {
         "metadata": "{}",
         "name": "size",
         "type": "\"long\""
        },
        {
         "metadata": "{}",
         "name": "modificationTime",
         "type": "\"long\""
        }
       ],
       "type": "table"
      }
     },
     "output_type": "display_data"
    }
   ],
   "source": [
    "%fs\n",
    "ls /FileStore/shared_uploads/riteshojha2002@gmail.com/"
   ]
  },
  {
   "cell_type": "markdown",
   "metadata": {
    "application/vnd.databricks.v1+cell": {
     "cellMetadata": {},
     "inputWidgets": {},
     "nuid": "a09fc9eb-6576-4e9f-bf58-3746df21a80e",
     "showTitle": false,
     "title": ""
    }
   },
   "source": [
    "# Handling Corrupt Files\n"
   ]
  },
  {
   "cell_type": "markdown",
   "metadata": {
    "application/vnd.databricks.v1+cell": {
     "cellMetadata": {},
     "inputWidgets": {},
     "nuid": "542933d6-0ad7-4f89-b8d0-024822329e25",
     "showTitle": false,
     "title": ""
    }
   },
   "source": [
    "### Failfest\n",
    "- fail execution if mailfomed records in dataset\n",
    "### Dropmal fomed\n",
    "- Drop corrupted records\n",
    "### Permissive\n",
    "- Set null values to all corrupted fields"
   ]
  },
  {
   "cell_type": "code",
   "execution_count": 0,
   "metadata": {
    "application/vnd.databricks.v1+cell": {
     "cellMetadata": {},
     "inputWidgets": {},
     "nuid": "57d2b392-2721-495f-be5a-3a52373e971c",
     "showTitle": false,
     "title": ""
    }
   },
   "outputs": [],
   "source": [
    "corrupt_schema = StructType([\n",
    "    StructField(\"DEST_COUNTRY_NAME\", StringType(), True),\n",
    "    StructField(\"ORIGIN_COUNTRY_NAME\", StringType(),True),\n",
    "    StructField(\"count\",StringType(),True),\n",
    "    StructField(\"_corrupt_records\",StringType(),True)\n",
    "])"
   ]
  },
  {
   "cell_type": "code",
   "execution_count": 0,
   "metadata": {
    "application/vnd.databricks.v1+cell": {
     "cellMetadata": {},
     "inputWidgets": {},
     "nuid": "e0b73e88-685d-4162-901c-578f52f8d920",
     "showTitle": false,
     "title": ""
    }
   },
   "outputs": [],
   "source": [
    "# Handling Corrupt Files\n",
    "\n",
    "flight_df_corrupt = spark.read.format('csv')\\\n",
    ".option('header','false')\\\n",
    ".option(\"badRecordsPath\",\"dbfs:/FileStore/shared_uploads/riteshojha2002@gmail.com/\")\n",
    ".schema(corrupt_schema).load(path)\\\n",
    "\n",
    "# Bad record file in Json format\n"
   ]
  },
  {
   "cell_type": "code",
   "execution_count": 0,
   "metadata": {
    "application/vnd.databricks.v1+cell": {
     "cellMetadata": {},
     "inputWidgets": {},
     "nuid": "75859c9f-608b-4453-a924-16ca282872a6",
     "showTitle": false,
     "title": ""
    }
   },
   "outputs": [],
   "source": []
  },
  {
   "cell_type": "markdown",
   "metadata": {
    "application/vnd.databricks.v1+cell": {
     "cellMetadata": {},
     "inputWidgets": {},
     "nuid": "b1239d45-fafb-4e5d-af44-839155a36ffa",
     "showTitle": false,
     "title": ""
    }
   },
   "source": [
    "# Write file in spark\n",
    "\n",
    "- Append\n",
    "- Overwrite"
   ]
  },
  {
   "cell_type": "code",
   "execution_count": 0,
   "metadata": {
    "application/vnd.databricks.v1+cell": {
     "cellMetadata": {},
     "inputWidgets": {},
     "nuid": "24335a97-8fb9-410e-ab6b-dcb154273cc7",
     "showTitle": false,
     "title": ""
    }
   },
   "outputs": [],
   "source": [
    "df.write.format('csv')\\\n",
    "    .option(\"header\",\"True\")\\\n",
    "    .option(\"mode\",\"overwrite\")\\\n",
    "    .option(\"path\",\"dbfs:/FileStore/shared_uploads/riteshojha2002@gmail.com/write/\")\n",
    "    .save()"
   ]
  },
  {
   "cell_type": "code",
   "execution_count": 0,
   "metadata": {
    "application/vnd.databricks.v1+cell": {
     "cellMetadata": {},
     "inputWidgets": {},
     "nuid": "6c240ba2-335c-43f6-af5d-19e32034a0a4",
     "showTitle": false,
     "title": ""
    }
   },
   "outputs": [],
   "source": [
    "# Partitioning\n",
    "df.repartition(3).write.format('csv')\\\n",
    "    .option(\"header\",\"True\")\\\n",
    "    .option(\"mode\",\"overwrite\")\\\n",
    "    .option(\"path\",\"dbfs:/FileStore/shared_uploads/riteshojha2002@gmail.com/write/\")\n",
    "    .save()"
   ]
  },
  {
   "cell_type": "markdown",
   "metadata": {
    "application/vnd.databricks.v1+cell": {
     "cellMetadata": {},
     "inputWidgets": {},
     "nuid": "1f436129-9806-409e-9e00-1c092cb5575b",
     "showTitle": false,
     "title": ""
    }
   },
   "source": [
    "# Partition and Bucket\n",
    "- Partition used when we have columns of categorys like gender, country, city\n",
    "- Bucket created when we not able to create partitions."
   ]
  },
  {
   "cell_type": "code",
   "execution_count": 0,
   "metadata": {
    "application/vnd.databricks.v1+cell": {
     "cellMetadata": {},
     "inputWidgets": {},
     "nuid": "58ea9b40-6040-4a67-a080-bd84d6d89d57",
     "showTitle": false,
     "title": ""
    }
   },
   "outputs": [],
   "source": [
    "df.write.format('csv')\\\n",
    "    .option(\"header\",\"True\")\\\n",
    "    .option(\"mode\",\"overwrite\")\\\n",
    "    .option(\"path\",\"dbfs:/FileStore/shared_uploads/riteshojha2002@gmail.com/write/\")\\\n",
    "    .partitionBy(Column-Name)\\\n",
    "    .save()"
   ]
  },
  {
   "cell_type": "code",
   "execution_count": 0,
   "metadata": {
    "application/vnd.databricks.v1+cell": {
     "cellMetadata": {},
     "inputWidgets": {},
     "nuid": "c951141f-7e91-4340-a721-9630bba6d84e",
     "showTitle": false,
     "title": ""
    }
   },
   "outputs": [],
   "source": [
    "dbutils.fs.ls(\"dbfs:/FileStore/shared_uploads/riteshojha2002@gmail.com/write/\")"
   ]
  },
  {
   "cell_type": "code",
   "execution_count": 0,
   "metadata": {
    "application/vnd.databricks.v1+cell": {
     "cellMetadata": {},
     "inputWidgets": {},
     "nuid": "b9e4716f-b4ea-4c36-b7a9-51932d4d53f8",
     "showTitle": false,
     "title": ""
    }
   },
   "outputs": [],
   "source": [
    "df.write.format('csv')\\\n",
    "    .option(\"header\",\"True\")\\\n",
    "    .option(\"mode\",\"overwrite\")\\\n",
    "    .option(\"path\",\"dbfs:/FileStore/shared_uploads/riteshojha2002@gmail.com/write/\")\\\n",
    "    .bucketBy(3,\"ID\")\\\n",
    "    # .save() # save not work in bucket\n",
    "    .saveAsTable('table_name')\n"
   ]
  },
  {
   "cell_type": "markdown",
   "metadata": {
    "application/vnd.databricks.v1+cell": {
     "cellMetadata": {},
     "inputWidgets": {},
     "nuid": "5d22cbfb-65d2-40e4-978f-42527abe3f37",
     "showTitle": false,
     "title": ""
    }
   },
   "source": [
    "# Create Dataframe in Spark"
   ]
  },
  {
   "cell_type": "code",
   "execution_count": 0,
   "metadata": {
    "application/vnd.databricks.v1+cell": {
     "cellMetadata": {},
     "collapsed": true,
     "inputWidgets": {},
     "nuid": "22ddbdef-1635-4097-a216-96728dd9e69e",
     "showTitle": false,
     "title": ""
    }
   },
   "outputs": [],
   "source": [
    "data = [\n",
    "    (1,2),\n",
    "    (2,1),\n",
    "    (3,1),\n",
    "    (4,2),\n",
    "    (5,1),\n",
    "    (6,2),\n",
    "    (7,2)\n",
    "]"
   ]
  },
  {
   "cell_type": "code",
   "execution_count": 0,
   "metadata": {
    "application/vnd.databricks.v1+cell": {
     "cellMetadata": {},
     "inputWidgets": {},
     "nuid": "11c720bc-5264-463c-8d66-0270ab479280",
     "showTitle": false,
     "title": ""
    }
   },
   "outputs": [],
   "source": [
    "schema = ['id','num']"
   ]
  },
  {
   "cell_type": "code",
   "execution_count": 0,
   "metadata": {
    "application/vnd.databricks.v1+cell": {
     "cellMetadata": {},
     "inputWidgets": {},
     "nuid": "5180c6b3-3bea-4e9f-8a86-b17024649725",
     "showTitle": false,
     "title": ""
    }
   },
   "outputs": [],
   "source": [
    "df = spark.createDataFrame(data=data,schema=schema)\n",
    "df.show()"
   ]
  },
  {
   "cell_type": "code",
   "execution_count": 0,
   "metadata": {
    "application/vnd.databricks.v1+cell": {
     "cellMetadata": {},
     "inputWidgets": {},
     "nuid": "e0fd62d2-f3e9-464e-9fc7-6625610952c3",
     "showTitle": false,
     "title": ""
    }
   },
   "outputs": [],
   "source": []
  },
  {
   "cell_type": "markdown",
   "metadata": {
    "application/vnd.databricks.v1+cell": {
     "cellMetadata": {},
     "inputWidgets": {},
     "nuid": "65ab218d-a4df-4d32-8822-2175bad6a105",
     "showTitle": false,
     "title": ""
    }
   },
   "source": [
    "# Transformations"
   ]
  },
  {
   "cell_type": "markdown",
   "metadata": {
    "application/vnd.databricks.v1+cell": {
     "cellMetadata": {},
     "inputWidgets": {},
     "nuid": "74873cf4-1b8b-49a8-bf6b-797f3b4880ce",
     "showTitle": false,
     "title": ""
    }
   },
   "source": [
    "## Flight df"
   ]
  },
  {
   "cell_type": "code",
   "execution_count": 0,
   "metadata": {
    "application/vnd.databricks.v1+cell": {
     "cellMetadata": {
      "byteLimit": 2048000,
      "rowLimit": 10000
     },
     "inputWidgets": {},
     "nuid": "cdadbc3c-82e3-4482-8a40-2d12ec3e53c4",
     "showTitle": false,
     "title": ""
    }
   },
   "outputs": [],
   "source": [
    "from pyspark.sql.functions import col, expr, lit, concat"
   ]
  },
  {
   "cell_type": "code",
   "execution_count": 0,
   "metadata": {
    "application/vnd.databricks.v1+cell": {
     "cellMetadata": {
      "byteLimit": 2048000,
      "rowLimit": 10000
     },
     "collapsed": true,
     "inputWidgets": {},
     "nuid": "5b31d752-02fa-4b31-96db-c9ea2a394584",
     "showTitle": false,
     "title": ""
    }
   },
   "outputs": [
    {
     "output_type": "stream",
     "name": "stdout",
     "output_type": "stream",
     "text": [
      "+-----------------+-------------------+-----+\n|DEST_COUNTRY_NAME|ORIGIN_COUNTRY_NAME|count|\n+-----------------+-------------------+-----+\n|    United States|            Romania|   15|\n+-----------------+-------------------+-----+\nonly showing top 1 row\n\n"
     ]
    }
   ],
   "source": [
    "flight_df.show(1)"
   ]
  },
  {
   "cell_type": "code",
   "execution_count": 0,
   "metadata": {
    "application/vnd.databricks.v1+cell": {
     "cellMetadata": {
      "byteLimit": 2048000,
      "rowLimit": 10000
     },
     "collapsed": true,
     "inputWidgets": {},
     "nuid": "bee58c35-5a75-46a0-8498-f02462099c57",
     "showTitle": false,
     "title": ""
    }
   },
   "outputs": [
    {
     "output_type": "stream",
     "name": "stdout",
     "output_type": "stream",
     "text": [
      "+-----------------+\n|DEST_COUNTRY_NAME|\n+-----------------+\n|    United States|\n|    United States|\n|    United States|\n|            Egypt|\n|    United States|\n+-----------------+\nonly showing top 5 rows\n\n"
     ]
    }
   ],
   "source": [
    "flight_df.select(\"DEST_COUNTRY_NAME\").show(5)"
   ]
  },
  {
   "cell_type": "code",
   "execution_count": 0,
   "metadata": {
    "application/vnd.databricks.v1+cell": {
     "cellMetadata": {
      "byteLimit": 2048000,
      "rowLimit": 10000
     },
     "collapsed": true,
     "inputWidgets": {},
     "nuid": "2d1243ae-4b42-4ab0-9195-103faf92ba43",
     "showTitle": false,
     "title": ""
    }
   },
   "outputs": [
    {
     "output_type": "stream",
     "name": "stdout",
     "output_type": "stream",
     "text": [
      "+-----------------+\n|DEST_COUNTRY_NAME|\n+-----------------+\n|    United States|\n|    United States|\n|    United States|\n|            Egypt|\n|    United States|\n+-----------------+\nonly showing top 5 rows\n\n"
     ]
    }
   ],
   "source": [
    "flight_df.select(col(\"DEST_COUNTRY_NAME\")).show(5)"
   ]
  },
  {
   "cell_type": "code",
   "execution_count": 0,
   "metadata": {
    "application/vnd.databricks.v1+cell": {
     "cellMetadata": {
      "byteLimit": 2048000,
      "rowLimit": 10000
     },
     "collapsed": true,
     "inputWidgets": {},
     "nuid": "92cd2767-e751-4314-8962-8a69122f92b1",
     "showTitle": false,
     "title": ""
    }
   },
   "outputs": [
    {
     "output_type": "stream",
     "name": "stdout",
     "output_type": "stream",
     "text": [
      "+-----------+\n|(count + 5)|\n+-----------+\n|       20.0|\n|        6.0|\n|      349.0|\n|       20.0|\n|       67.0|\n+-----------+\nonly showing top 5 rows\n\n"
     ]
    }
   ],
   "source": [
    "# Expression - Write SQL statements\n",
    "\n",
    "flight_df.select(expr(\"count +5\")).show(5)"
   ]
  },
  {
   "cell_type": "code",
   "execution_count": 0,
   "metadata": {
    "application/vnd.databricks.v1+cell": {
     "cellMetadata": {
      "byteLimit": 2048000,
      "rowLimit": 10000
     },
     "collapsed": true,
     "inputWidgets": {},
     "nuid": "4c5b12ff-3621-4dae-9ef0-4064a21cae0b",
     "showTitle": false,
     "title": ""
    }
   },
   "outputs": [
    {
     "output_type": "stream",
     "name": "stdout",
     "output_type": "stream",
     "text": [
      "+-----------+\n|(count + 5)|\n+-----------+\n|       20.0|\n|        6.0|\n|      349.0|\n|       20.0|\n|       67.0|\n+-----------+\nonly showing top 5 rows\n\n"
     ]
    }
   ],
   "source": [
    "flight_df.select(col(\"count\")+5).show(5)"
   ]
  },
  {
   "cell_type": "code",
   "execution_count": 0,
   "metadata": {
    "application/vnd.databricks.v1+cell": {
     "cellMetadata": {
      "byteLimit": 2048000,
      "rowLimit": 10000
     },
     "collapsed": true,
     "inputWidgets": {},
     "nuid": "1016d911-6fec-4de0-8e0c-41f2c152937d",
     "showTitle": false,
     "title": ""
    }
   },
   "outputs": [
    {
     "output_type": "stream",
     "name": "stdout",
     "output_type": "stream",
     "text": [
      "+-----------------+-----------------+-----------------+-----------------+\n|DEST_COUNTRY_NAME|DEST_COUNTRY_NAME|DEST_COUNTRY_NAME|DEST_COUNTRY_NAME|\n+-----------------+-----------------+-----------------+-----------------+\n|    United States|    United States|    United States|    United States|\n|    United States|    United States|    United States|    United States|\n|    United States|    United States|    United States|    United States|\n+-----------------+-----------------+-----------------+-----------------+\nonly showing top 3 rows\n\n"
     ]
    }
   ],
   "source": [
    "# Four ways - String way , Col Way, Pandas Way, SQl way\n",
    "\n",
    "flight_df.select(\"DEST_COUNTRY_NAME\",col(\"DEST_COUNTRY_NAME\"),flight_df['DEST_COUNTRY_NAME'],flight_df.DEST_COUNTRY_NAME).show(3)"
   ]
  },
  {
   "cell_type": "code",
   "execution_count": 0,
   "metadata": {
    "application/vnd.databricks.v1+cell": {
     "cellMetadata": {
      "byteLimit": 2048000,
      "rowLimit": 10000
     },
     "collapsed": true,
     "inputWidgets": {},
     "nuid": "4c1b554a-6969-4fe4-a7e9-642bfce0326f",
     "showTitle": false,
     "title": ""
    }
   },
   "outputs": [
    {
     "output_type": "stream",
     "name": "stdout",
     "output_type": "stream",
     "text": [
      "+-------------+\n|  Destination|\n+-------------+\n|United States|\n|United States|\n|United States|\n+-------------+\nonly showing top 3 rows\n\n"
     ]
    }
   ],
   "source": [
    "flight_df.select(expr(\"DEST_COUNTRY_NAME as Destination\")).show(3)"
   ]
  },
  {
   "cell_type": "code",
   "execution_count": 0,
   "metadata": {
    "application/vnd.databricks.v1+cell": {
     "cellMetadata": {
      "byteLimit": 2048000,
      "rowLimit": 10000
     },
     "collapsed": true,
     "inputWidgets": {},
     "nuid": "11e81ef6-5278-453f-acf2-707e788e84ba",
     "showTitle": false,
     "title": ""
    }
   },
   "outputs": [
    {
     "output_type": "stream",
     "name": "stdout",
     "output_type": "stream",
     "text": [
      "+-----------------+-------------------+-----+\n|DEST_COUNTRY_NAME|ORIGIN_COUNTRY_NAME|count|\n+-----------------+-------------------+-----+\n|            Egypt|      United States|   15|\n|            India|      United States|   61|\n+-----------------+-------------------+-----+\n\n"
     ]
    }
   ],
   "source": [
    "flight_df.filter((col(\"DEST_COUNTRY_NAME\") == \"India\") | (col(\"DEST_COUNTRY_NAME\")==\"Egypt\")).show(5)"
   ]
  },
  {
   "cell_type": "code",
   "execution_count": 0,
   "metadata": {
    "application/vnd.databricks.v1+cell": {
     "cellMetadata": {
      "byteLimit": 2048000,
      "rowLimit": 10000
     },
     "collapsed": true,
     "inputWidgets": {},
     "nuid": "68b89143-044e-4ccf-ae33-d154f9178357",
     "showTitle": false,
     "title": ""
    }
   },
   "outputs": [
    {
     "output_type": "stream",
     "name": "stdout",
     "output_type": "stream",
     "text": [
      "+-----------------+-------------------+-----+\n|DEST_COUNTRY_NAME|ORIGIN_COUNTRY_NAME|count|\n+-----------------+-------------------+-----+\n|    United States|            Romania|   15|\n|    United States|            Croatia|    1|\n|    United States|            Ireland|  344|\n|    United States|              India|   62|\n|    United States|          Singapore|    1|\n+-----------------+-------------------+-----+\nonly showing top 5 rows\n\n"
     ]
    }
   ],
   "source": [
    "flight_df.where(col(\"DEST_COUNTRY_NAME\") == \"United States\").show(5)"
   ]
  },
  {
   "cell_type": "code",
   "execution_count": 0,
   "metadata": {
    "application/vnd.databricks.v1+cell": {
     "cellMetadata": {
      "byteLimit": 2048000,
      "rowLimit": 10000
     },
     "collapsed": true,
     "inputWidgets": {},
     "nuid": "edb36400-fe20-42f3-8072-a8ff2f83119a",
     "showTitle": false,
     "title": ""
    }
   },
   "outputs": [
    {
     "output_type": "stream",
     "name": "stdout",
     "output_type": "stream",
     "text": [
      "+-----------------+-------------------+-----+---------+\n|DEST_COUNTRY_NAME|ORIGIN_COUNTRY_NAME|count|  Company|\n+-----------------+-------------------+-----+---------+\n|    United States|            Romania|   15|Air India|\n|    United States|            Croatia|    1|Air India|\n|    United States|            Ireland|  344|Air India|\n|            Egypt|      United States|   15|Air India|\n|    United States|              India|   62|Air India|\n+-----------------+-------------------+-----+---------+\nonly showing top 5 rows\n\n"
     ]
    }
   ],
   "source": [
    "# literal - Use to assign default values\n",
    "flight_df.select(\"*\",lit(\"Air India\").alias(\"Company\")).show(5)\n"
   ]
  },
  {
   "cell_type": "code",
   "execution_count": 0,
   "metadata": {
    "application/vnd.databricks.v1+cell": {
     "cellMetadata": {},
     "inputWidgets": {},
     "nuid": "18f20346-3781-4d39-a893-71e1a77fb286",
     "showTitle": false,
     "title": ""
    }
   },
   "outputs": [],
   "source": [
    "# With Column - Update or Create New Column\n",
    "\n",
    "flight_df.withColumn()"
   ]
  },
  {
   "cell_type": "markdown",
   "metadata": {
    "application/vnd.databricks.v1+cell": {
     "cellMetadata": {},
     "inputWidgets": {},
     "nuid": "dbf91ad1-424b-4870-99f4-1ec6bbd4af17",
     "showTitle": false,
     "title": ""
    }
   },
   "source": [
    "## Hr Df"
   ]
  },
  {
   "cell_type": "code",
   "execution_count": 0,
   "metadata": {
    "application/vnd.databricks.v1+cell": {
     "cellMetadata": {
      "byteLimit": 2048000,
      "rowLimit": 10000
     },
     "inputWidgets": {},
     "nuid": "32a4b698-fbdc-490d-8bb9-1f584c894e79",
     "showTitle": false,
     "title": ""
    }
   },
   "outputs": [],
   "source": [
    "hr_df = spark.read.format('csv').option('header','True').option('inferschema','True').load(\"dbfs:/FileStore/shared_uploads/riteshojha2002@gmail.com/HR_Gender_Diversity___Equality.csv\")"
   ]
  },
  {
   "cell_type": "code",
   "execution_count": 0,
   "metadata": {
    "application/vnd.databricks.v1+cell": {
     "cellMetadata": {
      "byteLimit": 2048000,
      "rowLimit": 10000
     },
     "inputWidgets": {},
     "nuid": "bc69b998-206f-431c-8457-93134eb89868",
     "showTitle": false,
     "title": ""
    }
   },
   "outputs": [
    {
     "output_type": "stream",
     "name": "stdout",
     "output_type": "stream",
     "text": [
      "root\n |-- Employee ID: integer (nullable = true)\n |-- DOB: date (nullable = true)\n |-- Emp Age: integer (nullable = true)\n |-- Surname: string (nullable = true)\n |-- Name: string (nullable = true)\n |-- Gender: string (nullable = true)\n |-- Marital Status: string (nullable = true)\n |-- Branch: string (nullable = true)\n |-- Hire Date: date (nullable = true)\n |-- Leave Date: date (nullable = true)\n |-- Leave Reason: string (nullable = true)\n |-- Status: string (nullable = true)\n |-- Department: string (nullable = true)\n |-- Employee Satisfaction: integer (nullable = true)\n |-- Annual Salary ($): integer (nullable = true)\n |-- Bonus ($): integer (nullable = true)\n |-- Total Compensation: integer (nullable = true)\n |-- Job Title: string (nullable = true)\n |-- Job Description: string (nullable = true)\n |-- Manager (Y/N): string (nullable = true)\n |-- Performance: string (nullable = true)\n\n"
     ]
    }
   ],
   "source": [
    "hr_df.printSchema()"
   ]
  },
  {
   "cell_type": "code",
   "execution_count": 0,
   "metadata": {
    "application/vnd.databricks.v1+cell": {
     "cellMetadata": {
      "byteLimit": 2048000,
      "rowLimit": 10000
     },
     "collapsed": true,
     "inputWidgets": {},
     "nuid": "0523fa3d-8801-48fe-bfb5-b85a3c3a5791",
     "showTitle": false,
     "title": ""
    }
   },
   "outputs": [
    {
     "output_type": "stream",
     "name": "stdout",
     "output_type": "stream",
     "text": [
      "+-----------+----------+-------+---------+-------+------+--------------+------------+----------+----------+------------+------+----------+---------------------+-----------------+---------+------------------+--------------------+---------------+-------------+-----------+--------------+\n|Employee ID|       DOB|Emp Age|  Surname|   Name|Gender|Marital Status|      Branch| Hire Date|Leave Date|Leave Reason|Status|Department|Employee Satisfaction|Annual Salary ($)|Bonus ($)|Total Compensation|           Job Title|Job Description|Manager (Y/N)|Performance|     Full Name|\n+-----------+----------+-------+---------+-------+------+--------------+------------+----------+----------+------------+------+----------+---------------------+-----------------+---------+------------------+--------------------+---------------+-------------+-----------+--------------+\n|      10005|1953-10-28|     69|  Jackson| Noelia|     F|        Single|Buenos Aires|2014-01-25|      null|Not provided|Active|Production|                    3|            43241|     4757|             47998|Production Techni...|     Technician|           No|Fully Meets| NoeliaJackson|\n|      10007|1953-04-28|     69|    Carey|Rodrigo|     M|        Single|        Lima|2014-02-04|      null|Not provided|Active|Production|                    3|            51009|     7141|             58150|Production Techni...|     Technician|           No|Fully Meets|  RodrigoCarey|\n|      10009|1968-02-06|     55|     Chan|  Lucas|     M|        Single|Buenos Aires|2014-02-09|      null|Not provided|Active|Production|                    4|            42034|     6305|             48339|Production Techni...|     Technician|           No|Fully Meets|     LucasChan|\n|      10015|1983-11-10|     39| Ferreira| Daiana|     F|        Single|        Lima|2014-05-02|      null|Not provided|Active|Production|                    4|            44391|     2663|             47054|Production Techni...|     Technician|           No|Fully Meets|DaianaFerreira|\n|      10040|1961-05-01|     61|Bernstein|  Ruben|     M|        Single|        Lima|2014-10-07|      null|Not provided|Active|Production|                    3|            43361|     8239|             51600|Production Techni...|     Technician|           No|Fully Meets|RubenBernstein|\n+-----------+----------+-------+---------+-------+------+--------------+------------+----------+----------+------------+------+----------+---------------------+-----------------+---------+------------------+--------------------+---------------+-------------+-----------+--------------+\nonly showing top 5 rows\n\n"
     ]
    }
   ],
   "source": [
    "hr_df.withColumn(\"Full Name\",concat(\"Name\",\"Surname\")).show(5)"
   ]
  },
  {
   "cell_type": "code",
   "execution_count": 0,
   "metadata": {
    "application/vnd.databricks.v1+cell": {
     "cellMetadata": {
      "byteLimit": 2048000,
      "rowLimit": 10000
     },
     "collapsed": true,
     "inputWidgets": {},
     "nuid": "71ffdeba-5eac-44c8-9d5f-93c938682522",
     "showTitle": false,
     "title": ""
    }
   },
   "outputs": [
    {
     "output_type": "stream",
     "name": "stdout",
     "output_type": "stream",
     "text": [
      "+-----+----------+-------+---------+-------+------+--------------+------------+----------+----------+------------+------+----------+---------------------+-----------------+---------+------------------+--------------------+---------------+-------------+-----------+\n|   ID|       DOB|Emp Age|  Surname|   Name|Gender|Marital Status|      Branch| Hire Date|Leave Date|Leave Reason|Status|Department|Employee Satisfaction|Annual Salary ($)|Bonus ($)|Total Compensation|           Job Title|Job Description|Manager (Y/N)|Performance|\n+-----+----------+-------+---------+-------+------+--------------+------------+----------+----------+------------+------+----------+---------------------+-----------------+---------+------------------+--------------------+---------------+-------------+-----------+\n|10005|1953-10-28|     69|  Jackson| Noelia|     F|        Single|Buenos Aires|2014-01-25|      null|Not provided|Active|Production|                    3|            43241|     4757|             47998|Production Techni...|     Technician|           No|Fully Meets|\n|10007|1953-04-28|     69|    Carey|Rodrigo|     M|        Single|        Lima|2014-02-04|      null|Not provided|Active|Production|                    3|            51009|     7141|             58150|Production Techni...|     Technician|           No|Fully Meets|\n|10009|1968-02-06|     55|     Chan|  Lucas|     M|        Single|Buenos Aires|2014-02-09|      null|Not provided|Active|Production|                    4|            42034|     6305|             48339|Production Techni...|     Technician|           No|Fully Meets|\n|10015|1983-11-10|     39| Ferreira| Daiana|     F|        Single|        Lima|2014-05-02|      null|Not provided|Active|Production|                    4|            44391|     2663|             47054|Production Techni...|     Technician|           No|Fully Meets|\n|10040|1961-05-01|     61|Bernstein|  Ruben|     M|        Single|        Lima|2014-10-07|      null|Not provided|Active|Production|                    3|            43361|     8239|             51600|Production Techni...|     Technician|           No|Fully Meets|\n+-----+----------+-------+---------+-------+------+--------------+------------+----------+----------+------------+------+----------+---------------------+-----------------+---------+------------------+--------------------+---------------+-------------+-----------+\nonly showing top 5 rows\n\n"
     ]
    }
   ],
   "source": [
    "new_df = hr_df.withColumnRenamed(\"Employee ID\",\"ID\")\n",
    "new_df.show(5)"
   ]
  },
  {
   "cell_type": "code",
   "execution_count": 0,
   "metadata": {
    "application/vnd.databricks.v1+cell": {
     "cellMetadata": {
      "byteLimit": 2048000,
      "rowLimit": 10000
     },
     "collapsed": true,
     "inputWidgets": {},
     "nuid": "9fed6f58-68a9-4b52-ada7-489975c01dd6",
     "showTitle": false,
     "title": ""
    }
   },
   "outputs": [
    {
     "output_type": "stream",
     "name": "stdout",
     "output_type": "stream",
     "text": [
      "root\n |-- Employee ID: integer (nullable = true)\n |-- DOB: date (nullable = true)\n |-- Emp Age: string (nullable = true)\n |-- Surname: string (nullable = true)\n |-- Name: string (nullable = true)\n |-- Gender: string (nullable = true)\n |-- Marital Status: string (nullable = true)\n |-- Branch: string (nullable = true)\n |-- Hire Date: date (nullable = true)\n |-- Leave Date: date (nullable = true)\n |-- Leave Reason: string (nullable = true)\n |-- Status: string (nullable = true)\n |-- Department: string (nullable = true)\n |-- Employee Satisfaction: integer (nullable = true)\n |-- Annual Salary ($): integer (nullable = true)\n |-- Bonus ($): integer (nullable = true)\n |-- Total Compensation: integer (nullable = true)\n |-- Job Title: string (nullable = true)\n |-- Job Description: string (nullable = true)\n |-- Manager (Y/N): string (nullable = true)\n |-- Performance: string (nullable = true)\n\n"
     ]
    }
   ],
   "source": [
    "hr_df.withColumn(\"Emp Age\",col(\"Emp Age\").cast(\"string\")).printSchema()"
   ]
  },
  {
   "cell_type": "code",
   "execution_count": 0,
   "metadata": {
    "application/vnd.databricks.v1+cell": {
     "cellMetadata": {},
     "inputWidgets": {},
     "nuid": "6fff0095-f0d2-4b16-84a7-a5ac35c46917",
     "showTitle": false,
     "title": ""
    }
   },
   "outputs": [],
   "source": []
  },
  {
   "cell_type": "code",
   "execution_count": 0,
   "metadata": {
    "application/vnd.databricks.v1+cell": {
     "cellMetadata": {},
     "inputWidgets": {},
     "nuid": "dcb1197b-0099-40b0-a261-3bb63fa942f0",
     "showTitle": false,
     "title": ""
    }
   },
   "outputs": [],
   "source": []
  },
  {
   "cell_type": "code",
   "execution_count": 0,
   "metadata": {
    "application/vnd.databricks.v1+cell": {
     "cellMetadata": {},
     "inputWidgets": {},
     "nuid": "e53eed37-e08a-4327-abd2-7748bc5b3284",
     "showTitle": false,
     "title": ""
    }
   },
   "outputs": [],
   "source": []
  },
  {
   "cell_type": "code",
   "execution_count": 0,
   "metadata": {
    "application/vnd.databricks.v1+cell": {
     "cellMetadata": {},
     "inputWidgets": {},
     "nuid": "c7968cab-9cc8-4c1c-ac1b-e14f4ca90a55",
     "showTitle": false,
     "title": ""
    }
   },
   "outputs": [],
   "source": []
  },
  {
   "cell_type": "markdown",
   "metadata": {
    "application/vnd.databricks.v1+cell": {
     "cellMetadata": {},
     "inputWidgets": {},
     "nuid": "0d2eed8b-8d47-49c5-bc41-cd527ad58235",
     "showTitle": false,
     "title": ""
    }
   },
   "source": [
    "# Spark SQL"
   ]
  },
  {
   "cell_type": "code",
   "execution_count": 0,
   "metadata": {
    "application/vnd.databricks.v1+cell": {
     "cellMetadata": {
      "byteLimit": 2048000,
      "rowLimit": 10000
     },
     "inputWidgets": {},
     "nuid": "a76a1e27-2294-4a85-8fd4-1dd8ec3e8246",
     "showTitle": false,
     "title": ""
    }
   },
   "outputs": [],
   "source": [
    "flight_df.createOrReplaceTempView(\"Flight_view\")"
   ]
  },
  {
   "cell_type": "code",
   "execution_count": 0,
   "metadata": {
    "application/vnd.databricks.v1+cell": {
     "cellMetadata": {
      "byteLimit": 2048000,
      "implicitDf": true,
      "rowLimit": 10000
     },
     "inputWidgets": {},
     "nuid": "ae74fc21-e558-412f-ab3d-ecdbed5bfef4",
     "showTitle": false,
     "title": ""
    }
   },
   "outputs": [
    {
     "output_type": "display_data",
     "data": {
      "text/html": [
       "<style scoped>\n",
       "  .table-result-container {\n",
       "    max-height: 300px;\n",
       "    overflow: auto;\n",
       "  }\n",
       "  table, th, td {\n",
       "    border: 1px solid black;\n",
       "    border-collapse: collapse;\n",
       "  }\n",
       "  th, td {\n",
       "    padding: 5px;\n",
       "  }\n",
       "  th {\n",
       "    text-align: left;\n",
       "  }\n",
       "</style><div class='table-result-container'><table class='table-result'><thead style='background-color: white'><tr><th>DEST_COUNTRY_NAME</th><th>ORIGIN_COUNTRY_NAME</th><th>count</th></tr></thead><tbody><tr><td>United States</td><td>Romania</td><td>15</td></tr><tr><td>United States</td><td>Croatia</td><td>1</td></tr><tr><td>United States</td><td>Ireland</td><td>344</td></tr><tr><td>Egypt</td><td>United States</td><td>15</td></tr><tr><td>United States</td><td>India</td><td>62</td></tr><tr><td>United States</td><td>Singapore</td><td>1</td></tr><tr><td>United States</td><td>Grenada</td><td>62</td></tr><tr><td>Costa Rica</td><td>United States</td><td>588</td></tr><tr><td>Senegal</td><td>United States</td><td>40</td></tr><tr><td>Moldova</td><td>United States</td><td>1</td></tr><tr><td>United States</td><td>Sint Maarten</td><td>325</td></tr><tr><td>United States</td><td>Marshall Islands</td><td>39</td></tr><tr><td>Guyana</td><td>United States</td><td>64</td></tr><tr><td>Malta</td><td>United States</td><td>1</td></tr><tr><td>Anguilla</td><td>United States</td><td>41</td></tr><tr><td>Bolivia</td><td>United States</td><td>30</td></tr><tr><td>United States</td><td>Paraguay</td><td>6</td></tr><tr><td>Algeria</td><td>United States</td><td>4</td></tr><tr><td>Turks and Caicos Islands</td><td>United States</td><td>230</td></tr><tr><td>United States</td><td>Gibraltar</td><td>1</td></tr><tr><td>Saint Vincent and the Grenadines</td><td>United States</td><td>1</td></tr><tr><td>Italy</td><td>United States</td><td>382</td></tr><tr><td>United States</td><td>Federated States of Micronesia</td><td>69</td></tr><tr><td>United States</td><td>Russia</td><td>161</td></tr><tr><td>Pakistan</td><td>United States</td><td>12</td></tr><tr><td>United States</td><td>Netherlands</td><td>660</td></tr><tr><td>Iceland</td><td>United States</td><td>181</td></tr><tr><td>Marshall Islands</td><td>United States</td><td>42</td></tr><tr><td>Luxembourg</td><td>United States</td><td>155</td></tr><tr><td>Honduras</td><td>United States</td><td>362</td></tr><tr><td>The Bahamas</td><td>United States</td><td>955</td></tr><tr><td>United States</td><td>Senegal</td><td>42</td></tr><tr><td>El Salvador</td><td>United States</td><td>561</td></tr><tr><td>Samoa</td><td>United States</td><td>25</td></tr><tr><td>United States</td><td>Angola</td><td>13</td></tr><tr><td>Switzerland</td><td>United States</td><td>294</td></tr><tr><td>United States</td><td>Anguilla</td><td>38</td></tr><tr><td>Sint Maarten</td><td>United States</td><td>325</td></tr><tr><td>Hong Kong</td><td>United States</td><td>332</td></tr><tr><td>Trinidad and Tobago</td><td>United States</td><td>211</td></tr><tr><td>Latvia</td><td>United States</td><td>19</td></tr><tr><td>United States</td><td>Ecuador</td><td>300</td></tr><tr><td>Suriname</td><td>United States</td><td>1</td></tr><tr><td>Mexico</td><td>United States</td><td>7140</td></tr><tr><td>United States</td><td>Cyprus</td><td>1</td></tr><tr><td>Ecuador</td><td>United States</td><td>268</td></tr><tr><td>United States</td><td>Portugal</td><td>134</td></tr><tr><td>United States</td><td>Costa Rica</td><td>608</td></tr><tr><td>United States</td><td>Guatemala</td><td>318</td></tr><tr><td>United States</td><td>Suriname</td><td>34</td></tr><tr><td>Colombia</td><td>United States</td><td>873</td></tr><tr><td>United States</td><td>Cape Verde</td><td>14</td></tr><tr><td>United States</td><td>Jamaica</td><td>712</td></tr><tr><td>Norway</td><td>United States</td><td>121</td></tr><tr><td>United States</td><td>Malaysia</td><td>3</td></tr><tr><td>United States</td><td>Morocco</td><td>19</td></tr><tr><td>Thailand</td><td>United States</td><td>3</td></tr><tr><td>United States</td><td>Samoa</td><td>25</td></tr><tr><td>Venezuela</td><td>United States</td><td>290</td></tr><tr><td>United States</td><td>Palau</td><td>31</td></tr><tr><td>United States</td><td>Venezuela</td><td>246</td></tr><tr><td>Panama</td><td>United States</td><td>510</td></tr><tr><td>Antigua and Barbuda</td><td>United States</td><td>126</td></tr><tr><td>United States</td><td>Chile</td><td>185</td></tr><tr><td>Morocco</td><td>United States</td><td>15</td></tr><tr><td>United States</td><td>Finland</td><td>28</td></tr><tr><td>Azerbaijan</td><td>United States</td><td>21</td></tr><tr><td>United States</td><td>Greece</td><td>23</td></tr><tr><td>United States</td><td>The Bahamas</td><td>986</td></tr><tr><td>New Zealand</td><td>United States</td><td>111</td></tr><tr><td>Liberia</td><td>United States</td><td>2</td></tr><tr><td>United States</td><td>Hong Kong</td><td>414</td></tr><tr><td>Hungary</td><td>United States</td><td>2</td></tr><tr><td>United States</td><td>China</td><td>920</td></tr><tr><td>United States</td><td>Vietnam</td><td>2</td></tr><tr><td>Burkina Faso</td><td>United States</td><td>1</td></tr><tr><td>Sweden</td><td>United States</td><td>118</td></tr><tr><td>United States</td><td>Kuwait</td><td>28</td></tr><tr><td>United States</td><td>Dominican Republic</td><td>1420</td></tr><tr><td>United States</td><td>Egypt</td><td>12</td></tr><tr><td>Israel</td><td>United States</td><td>134</td></tr><tr><td>United States</td><td>United States</td><td>370002</td></tr><tr><td>Ethiopia</td><td>United States</td><td>13</td></tr><tr><td>United States</td><td>Luxembourg</td><td>134</td></tr><tr><td>United States</td><td>Poland</td><td>33</td></tr><tr><td>Martinique</td><td>United States</td><td>44</td></tr><tr><td>United States</td><td>Saint Barthelemy</td><td>41</td></tr><tr><td>Saint Barthelemy</td><td>United States</td><td>39</td></tr><tr><td>Barbados</td><td>United States</td><td>154</td></tr><tr><td>United States</td><td>Turkey</td><td>129</td></tr><tr><td>Djibouti</td><td>United States</td><td>1</td></tr><tr><td>United States</td><td>Azerbaijan</td><td>21</td></tr><tr><td>United States</td><td>Estonia</td><td>1</td></tr><tr><td>Germany</td><td>United States</td><td>1468</td></tr><tr><td>United States</td><td>South Korea</td><td>827</td></tr><tr><td>United States</td><td>El Salvador</td><td>508</td></tr><tr><td>Ireland</td><td>United States</td><td>335</td></tr><tr><td>United States</td><td>Hungary</td><td>3</td></tr><tr><td>Zambia</td><td>United States</td><td>1</td></tr><tr><td>Malaysia</td><td>United States</td><td>2</td></tr><tr><td>United States</td><td>Ethiopia</td><td>12</td></tr><tr><td>United States</td><td>Panama</td><td>465</td></tr><tr><td>United States</td><td>Aruba</td><td>342</td></tr><tr><td>United States</td><td>Thailand</td><td>4</td></tr><tr><td>United States</td><td>Turks and Caicos Islands</td><td>236</td></tr><tr><td>Croatia</td><td>United States</td><td>2</td></tr><tr><td>United States</td><td>Pakistan</td><td>12</td></tr><tr><td>Cyprus</td><td>United States</td><td>1</td></tr><tr><td>United States</td><td>Honduras</td><td>407</td></tr><tr><td>Fiji</td><td>United States</td><td>24</td></tr><tr><td>Qatar</td><td>United States</td><td>108</td></tr><tr><td>Saint Kitts and Nevis</td><td>United States</td><td>139</td></tr><tr><td>Kuwait</td><td>United States</td><td>32</td></tr><tr><td>Taiwan</td><td>United States</td><td>266</td></tr><tr><td>Haiti</td><td>United States</td><td>226</td></tr><tr><td>Canada</td><td>United States</td><td>8399</td></tr><tr><td>Federated States of Micronesia</td><td>United States</td><td>69</td></tr><tr><td>United States</td><td>Liberia</td><td>2</td></tr><tr><td>Jamaica</td><td>United States</td><td>666</td></tr><tr><td>United States</td><td>Malta</td><td>2</td></tr><tr><td>Dominican Republic</td><td>United States</td><td>1353</td></tr><tr><td>Japan</td><td>United States</td><td>1548</td></tr><tr><td>United States</td><td>Lithuania</td><td>1</td></tr><tr><td>Finland</td><td>United States</td><td>26</td></tr><tr><td>United States</td><td>Guadeloupe</td><td>59</td></tr><tr><td>United States</td><td>Ukraine</td><td>13</td></tr><tr><td>United States</td><td>France</td><td>952</td></tr><tr><td>United States</td><td>Norway</td><td>115</td></tr><tr><td>Aruba</td><td>United States</td><td>346</td></tr><tr><td>French Guiana</td><td>United States</td><td>5</td></tr><tr><td>United States</td><td>Kiribati</td><td>35</td></tr><tr><td>India</td><td>United States</td><td>61</td></tr><tr><td>British Virgin Islands</td><td>United States</td><td>107</td></tr><tr><td>Brazil</td><td>United States</td><td>853</td></tr><tr><td>United States</td><td>Germany</td><td>1336</td></tr><tr><td>United States</td><td>New Zealand</td><td>74</td></tr><tr><td>French Polynesia</td><td>United States</td><td>43</td></tr><tr><td>United Arab Emirates</td><td>United States</td><td>320</td></tr><tr><td>Singapore</td><td>United States</td><td>3</td></tr><tr><td>United States</td><td>Mexico</td><td>7187</td></tr><tr><td>United States</td><td>Sweden</td><td>119</td></tr><tr><td>Netherlands</td><td>United States</td><td>776</td></tr><tr><td>United States</td><td>Martinique</td><td>43</td></tr><tr><td>United States</td><td>United Arab Emirates</td><td>313</td></tr><tr><td>United States</td><td>Bulgaria</td><td>1</td></tr><tr><td>Denmark</td><td>United States</td><td>153</td></tr><tr><td>China</td><td>United States</td><td>772</td></tr><tr><td>United States</td><td>Nicaragua</td><td>201</td></tr><tr><td>United States</td><td>Philippines</td><td>126</td></tr><tr><td>United States</td><td>Georgia</td><td>1</td></tr><tr><td>United States</td><td>Belgium</td><td>228</td></tr><tr><td>Cayman Islands</td><td>United States</td><td>314</td></tr><tr><td>Argentina</td><td>United States</td><td>180</td></tr><tr><td>Peru</td><td>United States</td><td>279</td></tr><tr><td>South Africa</td><td>United States</td><td>36</td></tr><tr><td>United States</td><td>Iceland</td><td>202</td></tr><tr><td>United States</td><td>Argentina</td><td>141</td></tr><tr><td>Spain</td><td>United States</td><td>420</td></tr><tr><td>Bermuda</td><td>United States</td><td>183</td></tr><tr><td>United States</td><td>Nigeria</td><td>50</td></tr><tr><td>United States</td><td>Austria</td><td>63</td></tr><tr><td>United States</td><td>Bonaire, Sint Eustatius, and Saba</td><td>59</td></tr><tr><td>Kiribati</td><td>United States</td><td>26</td></tr><tr><td>Saudi Arabia</td><td>United States</td><td>83</td></tr><tr><td>Czech Republic</td><td>United States</td><td>13</td></tr><tr><td>United States</td><td>Israel</td><td>127</td></tr><tr><td>Belgium</td><td>United States</td><td>259</td></tr><tr><td>United States</td><td>Saint Lucia</td><td>136</td></tr><tr><td>United States</td><td>Bahrain</td><td>1</td></tr><tr><td>United States</td><td>British Virgin Islands</td><td>80</td></tr><tr><td>Curacao</td><td>United States</td><td>90</td></tr><tr><td>Georgia</td><td>United States</td><td>2</td></tr><tr><td>United States</td><td>Denmark</td><td>152</td></tr><tr><td>United States</td><td>Guyana</td><td>63</td></tr><tr><td>Philippines</td><td>United States</td><td>134</td></tr><tr><td>Grenada</td><td>United States</td><td>53</td></tr><tr><td>Cape Verde</td><td>United States</td><td>20</td></tr><tr><td>Cote d'Ivoire</td><td>United States</td><td>1</td></tr><tr><td>Ukraine</td><td>United States</td><td>14</td></tr><tr><td>United States</td><td>Papua New Guinea</td><td>1</td></tr><tr><td>Russia</td><td>United States</td><td>176</td></tr><tr><td>United States</td><td>Saudi Arabia</td><td>70</td></tr><tr><td>Guatemala</td><td>United States</td><td>397</td></tr><tr><td>Saint Lucia</td><td>United States</td><td>123</td></tr><tr><td>Paraguay</td><td>United States</td><td>60</td></tr><tr><td>United States</td><td>Curacao</td><td>83</td></tr><tr><td>Kosovo</td><td>United States</td><td>1</td></tr><tr><td>United States</td><td>Taiwan</td><td>235</td></tr><tr><td>Tunisia</td><td>United States</td><td>3</td></tr><tr><td>United States</td><td>South Africa</td><td>40</td></tr><tr><td>Niger</td><td>United States</td><td>2</td></tr><tr><td>Turkey</td><td>United States</td><td>138</td></tr><tr><td>United Kingdom</td><td>United States</td><td>2025</td></tr><tr><td>Romania</td><td>United States</td><td>14</td></tr><tr><td>United States</td><td>Greenland</td><td>4</td></tr><tr><td>Papua New Guinea</td><td>United States</td><td>3</td></tr><tr><td>United States</td><td>Spain</td><td>442</td></tr><tr><td>Iraq</td><td>United States</td><td>1</td></tr><tr><td>United States</td><td>Italy</td><td>438</td></tr><tr><td>Cuba</td><td>United States</td><td>466</td></tr><tr><td>United States</td><td>Switzerland</td><td>305</td></tr><tr><td>Dominica</td><td>United States</td><td>20</td></tr><tr><td>United States</td><td>Japan</td><td>1496</td></tr><tr><td>Portugal</td><td>United States</td><td>127</td></tr><tr><td>United States</td><td>Brazil</td><td>619</td></tr><tr><td>Bahrain</td><td>United States</td><td>19</td></tr><tr><td>United States</td><td>Peru</td><td>337</td></tr><tr><td>Indonesia</td><td>United States</td><td>1</td></tr><tr><td>United States</td><td>Belize</td><td>193</td></tr><tr><td>United States</td><td>United Kingdom</td><td>1970</td></tr><tr><td>Belize</td><td>United States</td><td>188</td></tr><tr><td>United States</td><td>Ghana</td><td>20</td></tr><tr><td>United States</td><td>Indonesia</td><td>2</td></tr><tr><td>United States</td><td>Fiji</td><td>25</td></tr><tr><td>United States</td><td>Canada</td><td>8483</td></tr><tr><td>United States</td><td>Antigua and Barbuda</td><td>117</td></tr><tr><td>United States</td><td>French Polynesia</td><td>40</td></tr><tr><td>Nicaragua</td><td>United States</td><td>179</td></tr><tr><td>United States</td><td>Latvia</td><td>15</td></tr><tr><td>United States</td><td>Dominica</td><td>27</td></tr><tr><td>United States</td><td>Czech Republic</td><td>12</td></tr><tr><td>United States</td><td>Australia</td><td>258</td></tr><tr><td>United States</td><td>Cook Islands</td><td>13</td></tr><tr><td>Austria</td><td>United States</td><td>62</td></tr><tr><td>Jordan</td><td>United States</td><td>44</td></tr><tr><td>Palau</td><td>United States</td><td>30</td></tr><tr><td>South Korea</td><td>United States</td><td>1048</td></tr><tr><td>Angola</td><td>United States</td><td>15</td></tr><tr><td>Ghana</td><td>United States</td><td>18</td></tr><tr><td>New Caledonia</td><td>United States</td><td>1</td></tr><tr><td>Guadeloupe</td><td>United States</td><td>56</td></tr><tr><td>France</td><td>United States</td><td>935</td></tr><tr><td>Poland</td><td>United States</td><td>32</td></tr><tr><td>Nigeria</td><td>United States</td><td>59</td></tr><tr><td>United States</td><td>Uruguay</td><td>13</td></tr><tr><td>Greenland</td><td>United States</td><td>2</td></tr><tr><td>United States</td><td>Bermuda</td><td>193</td></tr><tr><td>Chile</td><td>United States</td><td>174</td></tr><tr><td>United States</td><td>Cuba</td><td>478</td></tr><tr><td>United States</td><td>Montenegro</td><td>1</td></tr><tr><td>United States</td><td>Colombia</td><td>867</td></tr><tr><td>United States</td><td>Barbados</td><td>130</td></tr><tr><td>United States</td><td>Qatar</td><td>109</td></tr><tr><td>Australia</td><td>United States</td><td>329</td></tr><tr><td>United States</td><td>Cayman Islands</td><td>310</td></tr><tr><td>United States</td><td>Jordan</td><td>44</td></tr><tr><td>United States</td><td>Namibia</td><td>1</td></tr><tr><td>United States</td><td>Trinidad and Tobago</td><td>217</td></tr><tr><td>United States</td><td>Bolivia</td><td>13</td></tr><tr><td>Cook Islands</td><td>United States</td><td>13</td></tr><tr><td>Bulgaria</td><td>United States</td><td>3</td></tr><tr><td>United States</td><td>Saint Kitts and Nevis</td><td>145</td></tr><tr><td>Uruguay</td><td>United States</td><td>43</td></tr><tr><td>United States</td><td>Haiti</td><td>225</td></tr><tr><td>Bonaire, Sint Eustatius, and Saba</td><td>United States</td><td>58</td></tr><tr><td>Greece</td><td>United States</td><td>30</td></tr></tbody></table></div>"
      ]
     },
     "metadata": {
      "application/vnd.databricks.v1+output": {
       "addedWidgets": {},
       "aggData": [],
       "aggError": "",
       "aggOverflow": false,
       "aggSchema": [],
       "aggSeriesLimitReached": false,
       "aggType": "",
       "arguments": {},
       "columnCustomDisplayInfos": {},
       "data": [
        [
         "United States",
         "Romania",
         "15"
        ],
        [
         "United States",
         "Croatia",
         "1"
        ],
        [
         "United States",
         "Ireland",
         "344"
        ],
        [
         "Egypt",
         "United States",
         "15"
        ],
        [
         "United States",
         "India",
         "62"
        ],
        [
         "United States",
         "Singapore",
         "1"
        ],
        [
         "United States",
         "Grenada",
         "62"
        ],
        [
         "Costa Rica",
         "United States",
         "588"
        ],
        [
         "Senegal",
         "United States",
         "40"
        ],
        [
         "Moldova",
         "United States",
         "1"
        ],
        [
         "United States",
         "Sint Maarten",
         "325"
        ],
        [
         "United States",
         "Marshall Islands",
         "39"
        ],
        [
         "Guyana",
         "United States",
         "64"
        ],
        [
         "Malta",
         "United States",
         "1"
        ],
        [
         "Anguilla",
         "United States",
         "41"
        ],
        [
         "Bolivia",
         "United States",
         "30"
        ],
        [
         "United States",
         "Paraguay",
         "6"
        ],
        [
         "Algeria",
         "United States",
         "4"
        ],
        [
         "Turks and Caicos Islands",
         "United States",
         "230"
        ],
        [
         "United States",
         "Gibraltar",
         "1"
        ],
        [
         "Saint Vincent and the Grenadines",
         "United States",
         "1"
        ],
        [
         "Italy",
         "United States",
         "382"
        ],
        [
         "United States",
         "Federated States of Micronesia",
         "69"
        ],
        [
         "United States",
         "Russia",
         "161"
        ],
        [
         "Pakistan",
         "United States",
         "12"
        ],
        [
         "United States",
         "Netherlands",
         "660"
        ],
        [
         "Iceland",
         "United States",
         "181"
        ],
        [
         "Marshall Islands",
         "United States",
         "42"
        ],
        [
         "Luxembourg",
         "United States",
         "155"
        ],
        [
         "Honduras",
         "United States",
         "362"
        ],
        [
         "The Bahamas",
         "United States",
         "955"
        ],
        [
         "United States",
         "Senegal",
         "42"
        ],
        [
         "El Salvador",
         "United States",
         "561"
        ],
        [
         "Samoa",
         "United States",
         "25"
        ],
        [
         "United States",
         "Angola",
         "13"
        ],
        [
         "Switzerland",
         "United States",
         "294"
        ],
        [
         "United States",
         "Anguilla",
         "38"
        ],
        [
         "Sint Maarten",
         "United States",
         "325"
        ],
        [
         "Hong Kong",
         "United States",
         "332"
        ],
        [
         "Trinidad and Tobago",
         "United States",
         "211"
        ],
        [
         "Latvia",
         "United States",
         "19"
        ],
        [
         "United States",
         "Ecuador",
         "300"
        ],
        [
         "Suriname",
         "United States",
         "1"
        ],
        [
         "Mexico",
         "United States",
         "7140"
        ],
        [
         "United States",
         "Cyprus",
         "1"
        ],
        [
         "Ecuador",
         "United States",
         "268"
        ],
        [
         "United States",
         "Portugal",
         "134"
        ],
        [
         "United States",
         "Costa Rica",
         "608"
        ],
        [
         "United States",
         "Guatemala",
         "318"
        ],
        [
         "United States",
         "Suriname",
         "34"
        ],
        [
         "Colombia",
         "United States",
         "873"
        ],
        [
         "United States",
         "Cape Verde",
         "14"
        ],
        [
         "United States",
         "Jamaica",
         "712"
        ],
        [
         "Norway",
         "United States",
         "121"
        ],
        [
         "United States",
         "Malaysia",
         "3"
        ],
        [
         "United States",
         "Morocco",
         "19"
        ],
        [
         "Thailand",
         "United States",
         "3"
        ],
        [
         "United States",
         "Samoa",
         "25"
        ],
        [
         "Venezuela",
         "United States",
         "290"
        ],
        [
         "United States",
         "Palau",
         "31"
        ],
        [
         "United States",
         "Venezuela",
         "246"
        ],
        [
         "Panama",
         "United States",
         "510"
        ],
        [
         "Antigua and Barbuda",
         "United States",
         "126"
        ],
        [
         "United States",
         "Chile",
         "185"
        ],
        [
         "Morocco",
         "United States",
         "15"
        ],
        [
         "United States",
         "Finland",
         "28"
        ],
        [
         "Azerbaijan",
         "United States",
         "21"
        ],
        [
         "United States",
         "Greece",
         "23"
        ],
        [
         "United States",
         "The Bahamas",
         "986"
        ],
        [
         "New Zealand",
         "United States",
         "111"
        ],
        [
         "Liberia",
         "United States",
         "2"
        ],
        [
         "United States",
         "Hong Kong",
         "414"
        ],
        [
         "Hungary",
         "United States",
         "2"
        ],
        [
         "United States",
         "China",
         "920"
        ],
        [
         "United States",
         "Vietnam",
         "2"
        ],
        [
         "Burkina Faso",
         "United States",
         "1"
        ],
        [
         "Sweden",
         "United States",
         "118"
        ],
        [
         "United States",
         "Kuwait",
         "28"
        ],
        [
         "United States",
         "Dominican Republic",
         "1420"
        ],
        [
         "United States",
         "Egypt",
         "12"
        ],
        [
         "Israel",
         "United States",
         "134"
        ],
        [
         "United States",
         "United States",
         "370002"
        ],
        [
         "Ethiopia",
         "United States",
         "13"
        ],
        [
         "United States",
         "Luxembourg",
         "134"
        ],
        [
         "United States",
         "Poland",
         "33"
        ],
        [
         "Martinique",
         "United States",
         "44"
        ],
        [
         "United States",
         "Saint Barthelemy",
         "41"
        ],
        [
         "Saint Barthelemy",
         "United States",
         "39"
        ],
        [
         "Barbados",
         "United States",
         "154"
        ],
        [
         "United States",
         "Turkey",
         "129"
        ],
        [
         "Djibouti",
         "United States",
         "1"
        ],
        [
         "United States",
         "Azerbaijan",
         "21"
        ],
        [
         "United States",
         "Estonia",
         "1"
        ],
        [
         "Germany",
         "United States",
         "1468"
        ],
        [
         "United States",
         "South Korea",
         "827"
        ],
        [
         "United States",
         "El Salvador",
         "508"
        ],
        [
         "Ireland",
         "United States",
         "335"
        ],
        [
         "United States",
         "Hungary",
         "3"
        ],
        [
         "Zambia",
         "United States",
         "1"
        ],
        [
         "Malaysia",
         "United States",
         "2"
        ],
        [
         "United States",
         "Ethiopia",
         "12"
        ],
        [
         "United States",
         "Panama",
         "465"
        ],
        [
         "United States",
         "Aruba",
         "342"
        ],
        [
         "United States",
         "Thailand",
         "4"
        ],
        [
         "United States",
         "Turks and Caicos Islands",
         "236"
        ],
        [
         "Croatia",
         "United States",
         "2"
        ],
        [
         "United States",
         "Pakistan",
         "12"
        ],
        [
         "Cyprus",
         "United States",
         "1"
        ],
        [
         "United States",
         "Honduras",
         "407"
        ],
        [
         "Fiji",
         "United States",
         "24"
        ],
        [
         "Qatar",
         "United States",
         "108"
        ],
        [
         "Saint Kitts and Nevis",
         "United States",
         "139"
        ],
        [
         "Kuwait",
         "United States",
         "32"
        ],
        [
         "Taiwan",
         "United States",
         "266"
        ],
        [
         "Haiti",
         "United States",
         "226"
        ],
        [
         "Canada",
         "United States",
         "8399"
        ],
        [
         "Federated States of Micronesia",
         "United States",
         "69"
        ],
        [
         "United States",
         "Liberia",
         "2"
        ],
        [
         "Jamaica",
         "United States",
         "666"
        ],
        [
         "United States",
         "Malta",
         "2"
        ],
        [
         "Dominican Republic",
         "United States",
         "1353"
        ],
        [
         "Japan",
         "United States",
         "1548"
        ],
        [
         "United States",
         "Lithuania",
         "1"
        ],
        [
         "Finland",
         "United States",
         "26"
        ],
        [
         "United States",
         "Guadeloupe",
         "59"
        ],
        [
         "United States",
         "Ukraine",
         "13"
        ],
        [
         "United States",
         "France",
         "952"
        ],
        [
         "United States",
         "Norway",
         "115"
        ],
        [
         "Aruba",
         "United States",
         "346"
        ],
        [
         "French Guiana",
         "United States",
         "5"
        ],
        [
         "United States",
         "Kiribati",
         "35"
        ],
        [
         "India",
         "United States",
         "61"
        ],
        [
         "British Virgin Islands",
         "United States",
         "107"
        ],
        [
         "Brazil",
         "United States",
         "853"
        ],
        [
         "United States",
         "Germany",
         "1336"
        ],
        [
         "United States",
         "New Zealand",
         "74"
        ],
        [
         "French Polynesia",
         "United States",
         "43"
        ],
        [
         "United Arab Emirates",
         "United States",
         "320"
        ],
        [
         "Singapore",
         "United States",
         "3"
        ],
        [
         "United States",
         "Mexico",
         "7187"
        ],
        [
         "United States",
         "Sweden",
         "119"
        ],
        [
         "Netherlands",
         "United States",
         "776"
        ],
        [
         "United States",
         "Martinique",
         "43"
        ],
        [
         "United States",
         "United Arab Emirates",
         "313"
        ],
        [
         "United States",
         "Bulgaria",
         "1"
        ],
        [
         "Denmark",
         "United States",
         "153"
        ],
        [
         "China",
         "United States",
         "772"
        ],
        [
         "United States",
         "Nicaragua",
         "201"
        ],
        [
         "United States",
         "Philippines",
         "126"
        ],
        [
         "United States",
         "Georgia",
         "1"
        ],
        [
         "United States",
         "Belgium",
         "228"
        ],
        [
         "Cayman Islands",
         "United States",
         "314"
        ],
        [
         "Argentina",
         "United States",
         "180"
        ],
        [
         "Peru",
         "United States",
         "279"
        ],
        [
         "South Africa",
         "United States",
         "36"
        ],
        [
         "United States",
         "Iceland",
         "202"
        ],
        [
         "United States",
         "Argentina",
         "141"
        ],
        [
         "Spain",
         "United States",
         "420"
        ],
        [
         "Bermuda",
         "United States",
         "183"
        ],
        [
         "United States",
         "Nigeria",
         "50"
        ],
        [
         "United States",
         "Austria",
         "63"
        ],
        [
         "United States",
         "Bonaire, Sint Eustatius, and Saba",
         "59"
        ],
        [
         "Kiribati",
         "United States",
         "26"
        ],
        [
         "Saudi Arabia",
         "United States",
         "83"
        ],
        [
         "Czech Republic",
         "United States",
         "13"
        ],
        [
         "United States",
         "Israel",
         "127"
        ],
        [
         "Belgium",
         "United States",
         "259"
        ],
        [
         "United States",
         "Saint Lucia",
         "136"
        ],
        [
         "United States",
         "Bahrain",
         "1"
        ],
        [
         "United States",
         "British Virgin Islands",
         "80"
        ],
        [
         "Curacao",
         "United States",
         "90"
        ],
        [
         "Georgia",
         "United States",
         "2"
        ],
        [
         "United States",
         "Denmark",
         "152"
        ],
        [
         "United States",
         "Guyana",
         "63"
        ],
        [
         "Philippines",
         "United States",
         "134"
        ],
        [
         "Grenada",
         "United States",
         "53"
        ],
        [
         "Cape Verde",
         "United States",
         "20"
        ],
        [
         "Cote d'Ivoire",
         "United States",
         "1"
        ],
        [
         "Ukraine",
         "United States",
         "14"
        ],
        [
         "United States",
         "Papua New Guinea",
         "1"
        ],
        [
         "Russia",
         "United States",
         "176"
        ],
        [
         "United States",
         "Saudi Arabia",
         "70"
        ],
        [
         "Guatemala",
         "United States",
         "397"
        ],
        [
         "Saint Lucia",
         "United States",
         "123"
        ],
        [
         "Paraguay",
         "United States",
         "60"
        ],
        [
         "United States",
         "Curacao",
         "83"
        ],
        [
         "Kosovo",
         "United States",
         "1"
        ],
        [
         "United States",
         "Taiwan",
         "235"
        ],
        [
         "Tunisia",
         "United States",
         "3"
        ],
        [
         "United States",
         "South Africa",
         "40"
        ],
        [
         "Niger",
         "United States",
         "2"
        ],
        [
         "Turkey",
         "United States",
         "138"
        ],
        [
         "United Kingdom",
         "United States",
         "2025"
        ],
        [
         "Romania",
         "United States",
         "14"
        ],
        [
         "United States",
         "Greenland",
         "4"
        ],
        [
         "Papua New Guinea",
         "United States",
         "3"
        ],
        [
         "United States",
         "Spain",
         "442"
        ],
        [
         "Iraq",
         "United States",
         "1"
        ],
        [
         "United States",
         "Italy",
         "438"
        ],
        [
         "Cuba",
         "United States",
         "466"
        ],
        [
         "United States",
         "Switzerland",
         "305"
        ],
        [
         "Dominica",
         "United States",
         "20"
        ],
        [
         "United States",
         "Japan",
         "1496"
        ],
        [
         "Portugal",
         "United States",
         "127"
        ],
        [
         "United States",
         "Brazil",
         "619"
        ],
        [
         "Bahrain",
         "United States",
         "19"
        ],
        [
         "United States",
         "Peru",
         "337"
        ],
        [
         "Indonesia",
         "United States",
         "1"
        ],
        [
         "United States",
         "Belize",
         "193"
        ],
        [
         "United States",
         "United Kingdom",
         "1970"
        ],
        [
         "Belize",
         "United States",
         "188"
        ],
        [
         "United States",
         "Ghana",
         "20"
        ],
        [
         "United States",
         "Indonesia",
         "2"
        ],
        [
         "United States",
         "Fiji",
         "25"
        ],
        [
         "United States",
         "Canada",
         "8483"
        ],
        [
         "United States",
         "Antigua and Barbuda",
         "117"
        ],
        [
         "United States",
         "French Polynesia",
         "40"
        ],
        [
         "Nicaragua",
         "United States",
         "179"
        ],
        [
         "United States",
         "Latvia",
         "15"
        ],
        [
         "United States",
         "Dominica",
         "27"
        ],
        [
         "United States",
         "Czech Republic",
         "12"
        ],
        [
         "United States",
         "Australia",
         "258"
        ],
        [
         "United States",
         "Cook Islands",
         "13"
        ],
        [
         "Austria",
         "United States",
         "62"
        ],
        [
         "Jordan",
         "United States",
         "44"
        ],
        [
         "Palau",
         "United States",
         "30"
        ],
        [
         "South Korea",
         "United States",
         "1048"
        ],
        [
         "Angola",
         "United States",
         "15"
        ],
        [
         "Ghana",
         "United States",
         "18"
        ],
        [
         "New Caledonia",
         "United States",
         "1"
        ],
        [
         "Guadeloupe",
         "United States",
         "56"
        ],
        [
         "France",
         "United States",
         "935"
        ],
        [
         "Poland",
         "United States",
         "32"
        ],
        [
         "Nigeria",
         "United States",
         "59"
        ],
        [
         "United States",
         "Uruguay",
         "13"
        ],
        [
         "Greenland",
         "United States",
         "2"
        ],
        [
         "United States",
         "Bermuda",
         "193"
        ],
        [
         "Chile",
         "United States",
         "174"
        ],
        [
         "United States",
         "Cuba",
         "478"
        ],
        [
         "United States",
         "Montenegro",
         "1"
        ],
        [
         "United States",
         "Colombia",
         "867"
        ],
        [
         "United States",
         "Barbados",
         "130"
        ],
        [
         "United States",
         "Qatar",
         "109"
        ],
        [
         "Australia",
         "United States",
         "329"
        ],
        [
         "United States",
         "Cayman Islands",
         "310"
        ],
        [
         "United States",
         "Jordan",
         "44"
        ],
        [
         "United States",
         "Namibia",
         "1"
        ],
        [
         "United States",
         "Trinidad and Tobago",
         "217"
        ],
        [
         "United States",
         "Bolivia",
         "13"
        ],
        [
         "Cook Islands",
         "United States",
         "13"
        ],
        [
         "Bulgaria",
         "United States",
         "3"
        ],
        [
         "United States",
         "Saint Kitts and Nevis",
         "145"
        ],
        [
         "Uruguay",
         "United States",
         "43"
        ],
        [
         "United States",
         "Haiti",
         "225"
        ],
        [
         "Bonaire, Sint Eustatius, and Saba",
         "United States",
         "58"
        ],
        [
         "Greece",
         "United States",
         "30"
        ]
       ],
       "datasetInfos": [],
       "dbfsResultPath": null,
       "isJsonSchema": true,
       "metadata": {},
       "overflow": false,
       "plotOptions": {
        "customPlotOptions": {},
        "displayType": "table",
        "pivotAggregation": null,
        "pivotColumns": null,
        "xColumns": null,
        "yColumns": null
       },
       "removedWidgets": [],
       "schema": [
        {
         "metadata": "{}",
         "name": "DEST_COUNTRY_NAME",
         "type": "\"string\""
        },
        {
         "metadata": "{}",
         "name": "ORIGIN_COUNTRY_NAME",
         "type": "\"string\""
        },
        {
         "metadata": "{}",
         "name": "count",
         "type": "\"string\""
        }
       ],
       "type": "table"
      }
     },
     "output_type": "display_data"
    }
   ],
   "source": [
    "%sql\n",
    "select * from Flight_view"
   ]
  },
  {
   "cell_type": "code",
   "execution_count": 0,
   "metadata": {
    "application/vnd.databricks.v1+cell": {
     "cellMetadata": {
      "byteLimit": 2048000,
      "implicitDf": true,
      "rowLimit": 10000
     },
     "inputWidgets": {},
     "nuid": "66ecedb9-d7dc-4691-a6ce-ea31f8b8b43e",
     "showTitle": false,
     "title": ""
    }
   },
   "outputs": [
    {
     "output_type": "stream",
     "name": "stdout",
     "output_type": "stream",
     "text": [
      "+-----------------+-------------------+-----+\n|DEST_COUNTRY_NAME|ORIGIN_COUNTRY_NAME|count|\n+-----------------+-------------------+-----+\n|    United States|            Romania|   15|\n|    United States|            Croatia|    1|\n|    United States|            Ireland|  344|\n|            Egypt|      United States|   15|\n|    United States|              India|   62|\n+-----------------+-------------------+-----+\nonly showing top 5 rows\n\n"
     ]
    }
   ],
   "source": [
    "spark.sql(\"select * from {flight_df}\",flight_df = flight_df).show(5)"
   ]
  },
  {
   "cell_type": "code",
   "execution_count": 0,
   "metadata": {
    "application/vnd.databricks.v1+cell": {
     "cellMetadata": {},
     "inputWidgets": {},
     "nuid": "eac9f0ba-e9d2-4206-92b9-6aa8bb768506",
     "showTitle": false,
     "title": ""
    }
   },
   "outputs": [],
   "source": []
  }
 ],
 "metadata": {
  "application/vnd.databricks.v1+notebook": {
   "dashboards": [],
   "environmentMetadata": null,
   "language": "python",
   "notebookMetadata": {
    "mostRecentlyExecutedCommandWithImplicitDF": {
     "commandId": -1,
     "dataframes": [
      "_sqldf"
     ]
    },
    "pythonIndentUnit": 4
   },
   "notebookName": "Spark Course",
   "widgets": {}
  }
 },
 "nbformat": 4,
 "nbformat_minor": 0
}
